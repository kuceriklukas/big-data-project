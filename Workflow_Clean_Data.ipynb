{
 "cells": [
  {
   "cell_type": "markdown",
   "metadata": {},
   "source": [
    "# Notebook context\n",
    "    \n",
    "    In this notebook we will attempt at observing the following points:\n",
    "    1. Is there a correlation between job sat and career satisfaction?\n",
    "    2. Can we find correlations between job/career satisfaction and other variables \n",
    "        which we consider to have some potential in impacting job satisfaction? \n",
    "        e.g.: agefirstcode, yearscode, orgsize, mngidiot, gender, age\n",
    "    3. Testig the variables against the linear model and decision trees for answering the previous points"
   ]
  },
  {
   "cell_type": "code",
   "execution_count": 1,
   "metadata": {},
   "outputs": [
    {
     "name": "stderr",
     "output_type": "stream",
     "text": [
      "Registered S3 methods overwritten by 'ggplot2':\n",
      "  method         from \n",
      "  [.quosures     rlang\n",
      "  c.quosures     rlang\n",
      "  print.quosures rlang\n",
      "Registered S3 method overwritten by 'rvest':\n",
      "  method            from\n",
      "  read_xml.response xml2\n",
      "-- Attaching packages --------------------------------------- tidyverse 1.2.1 --\n",
      "v ggplot2 3.1.1       v purrr   0.3.2  \n",
      "v tibble  2.1.1       v dplyr   0.8.0.1\n",
      "v tidyr   0.8.3       v stringr 1.4.0  \n",
      "v readr   1.3.1       v forcats 0.4.0  \n",
      "-- Conflicts ------------------------------------------ tidyverse_conflicts() --\n",
      "x dplyr::filter() masks stats::filter()\n",
      "x dplyr::lag()    masks stats::lag()\n"
     ]
    }
   ],
   "source": [
    "library(tidyverse)\n",
    "library(dplyr)"
   ]
  },
  {
   "cell_type": "markdown",
   "metadata": {},
   "source": [
    "The selected dataset contains over 80 answers categories from the respondends.\n",
    "Each or more could be relevant factors in influencing the career satisfaction of the respondends. \n",
    "We will start by looking on some of the columns which we believe should influence the career satisfaction of a respondent. These columns are: JobSat, CareerSat, OrgSize, YearsCode, Age1stCode, Age. \n",
    "\n",
    "Below we are ordering the career satisfaction, job satisfaction and organization size in order to see what responses have a higher weight in general. "
   ]
  },
  {
   "cell_type": "code",
   "execution_count": 2,
   "metadata": {},
   "outputs": [
    {
     "data": {
      "text/html": [
       "<ol class=list-inline>\n",
       "\t<li>88883</li>\n",
       "\t<li>85</li>\n",
       "</ol>\n"
      ],
      "text/latex": [
       "\\begin{enumerate*}\n",
       "\\item 88883\n",
       "\\item 85\n",
       "\\end{enumerate*}\n"
      ],
      "text/markdown": [
       "1. 88883\n",
       "2. 85\n",
       "\n",
       "\n"
      ],
      "text/plain": [
       "[1] 88883    85"
      ]
     },
     "metadata": {},
     "output_type": "display_data"
    }
   ],
   "source": [
    "data2019 <- read.csv(\"soData2019_clean.csv\", stringsAsFactors=TRUE)\n",
    "dim(data2019)"
   ]
  },
  {
   "cell_type": "markdown",
   "metadata": {},
   "source": [
    "## Selecting, filtering and plotting the data"
   ]
  },
  {
   "cell_type": "code",
   "execution_count": 3,
   "metadata": {},
   "outputs": [],
   "source": [
    "data2019$CareerSat <- factor(data2019$CareerSat, levels = c(\"Very satisfied\", \"Slightly satisfied\", \"Neither satisfied nor dissatisfied\", \"Slightly dissatisfied\", \"Very dissatisfied\", NA), ordered = TRUE)\n",
    "data2019$JobSat <- factor(data2019$JobSat, levels = c(\"Very satisfied\",\"Slightly satisfied\",\"Neither satisfied nor dissatisfied\",\"Slightly dissatisfied\",\"Very dissatisfied\",\"NA\"), ordered = TRUE)\n",
    "data2019$OrgSize <- factor(data2019$OrgSize, levels = c(\"10,000 or more employees\",\"5,000 to 9,999 employee\",\"1,000 to 4,999 employees\",\"500 to 999 employees\",\"100 to 499 employees\",\"20 to 99 employees\",\"10 to 19 employees\",\"2-9 employees\",\"Just me - I am a freelancer, sole proprietor, etc.\",\"NA\"), ordered = TRUE)"
   ]
  },
  {
   "cell_type": "markdown",
   "metadata": {},
   "source": [
    "<font color='red'>Cleaning the information registered in the gender column by adding three extra columns to work with. These columns act as dummy variable holders by recoring the value 1 in the GenderMale observation for respondants whose gender is \"Man\" and nothing else and 0 if the answer was anything else. \n",
    "Hence, the need for the other two columns GenderFemale and GenderOther. GenderFemale has 1 on the respondends who selected \"Woman\" while GenderOther has 0 for all respondands that are strictly \"Man\" or \"Woman\".</font>"
   ]
  },
  {
   "cell_type": "code",
   "execution_count": 4,
   "metadata": {},
   "outputs": [],
   "source": [
    "#data2019 %>% group_by(Gender) %>% summarize(count = n())\n",
    "#data2019 %>% group_by(GenderMale) %>% summarize(count = n())\n",
    "#data2019 %>% group_by(GenderFemale) %>% summarize(count = n())\n",
    "#data2019 %>% group_by(GenderOther) %>% summarize(count = n())\n",
    "#data2019 %>% group_by(Student) %>% summarize(count = n())\n",
    "#data2019 %>% group_by(Hobbyist) %>% summarize(count = n())\n",
    "#data2019 %>% group_by(EdLevel) %>% summarize(count = n()) #-- need to convert from here"
   ]
  },
  {
   "cell_type": "code",
   "execution_count": 5,
   "metadata": {},
   "outputs": [],
   "source": [
    "data2019$GenderMale <- ifelse(data2019$Gender == \"Man\", 1, 0)\n",
    "data2019$GenderFemale <- ifelse(data2019$Gender == \"Woman\", 1, 0)\n",
    "data2019$GenderOther <- ifelse(data2019$Gender != \"Woman\" & data2019$Gender != \"Man\", 1, 0)"
   ]
  },
  {
   "cell_type": "code",
   "execution_count": 6,
   "metadata": {},
   "outputs": [],
   "source": [
    "#data2019 %>% group_by(Gender) %>% summarize(count = n())\n",
    "#data2019 %>% group_by(GenderMale) %>% summarize(count = n())\n",
    "#data2019 %>% group_by(GenderFemale) %>% summarize(count = n())\n",
    "#data2019 %>% group_by(GenderOther) %>% summarize(count = n())\n",
    "#data2019 %>% group_by(Student) %>% summarize(count = n())\n",
    "#data2019 %>% group_by(Hobbyist) %>% summarize(count = n())"
   ]
  },
  {
   "cell_type": "markdown",
   "metadata": {},
   "source": [
    "## <font color=red>Clean data for WebFrameWorkedWith</font>"
   ]
  },
  {
   "cell_type": "code",
   "execution_count": 7,
   "metadata": {},
   "outputs": [],
   "source": [
    "data2019$Angular<- str_detect(data2019$WebFrameWorkedWith, \"Angular\")\n",
    "data2019$Angular<- ifelse(data2019$Angular == \"TRUE\", 1, 0)\n",
    "\n",
    "data2019$Vue<- str_detect(data2019$WebFrameWorkedWith, \"Vue\")\n",
    "data2019$Vue<- ifelse(data2019$WebFrameWorkedWith == \"TRUE\", 1, 0)\n",
    "\n",
    "data2019$Ruby<- str_detect(data2019$WebFrameWorkedWith, \"Ruby\")\n",
    "data2019$Ruby<- ifelse(data2019$WebFrameWorkedWith == \"TRUE\", 1, 0)\n",
    "\n",
    "data2019$React<- str_detect(data2019$WebFrameWorkedWith, \"React\")\n",
    "data2019$React<- ifelse(data2019$WebFrameWorkedWith== \"TRUE\", 1, 0)\n",
    "\n",
    "data2019$Laravel<- str_detect(data2019$WebFrameWorkedWith, \"Laravel\")\n",
    "data2019$Laravel<- ifelse(data2019$WebFrameWorkedWith== \"TRUE\", 1, 0)\n",
    "\n",
    "data2019$Flask<- str_detect(data2019$WebFrameWorkedWith, \"Flask\")\n",
    "data2019$Flask<- ifelse(data2019$WebFrameWorkedWith== \"TRUE\", 1, 0)\n",
    "\n",
    "data2019$Express<- str_detect(data2019$WebFrameWorkedWith, \"Express\")\n",
    "data2019$Express<- ifelse(data2019$WebFrameWorkedWith== \"TRUE\", 1, 0)\n",
    "\n",
    "data2019$Drupal<- str_detect(data2019$WebFrameWorkedWith, \"Drupal\")\n",
    "data2019$Drupal<- ifelse(data2019$WebFrameWorkedWith== \"TRUE\", 1, 0)\n",
    "\n",
    "data2019$Django<- str_detect(data2019$WebFrameWorkedWith, \"Django\")\n",
    "data2019$Django<- ifelse(data2019$WebFrameWorkedWith== \"TRUE\", 1, 0)\n",
    "\n",
    "data2019$ASP<- str_detect(data2019$WebFrameWorkedWith, \"ASP.\")\n",
    "data2019$ASP<- ifelse(data2019$WebFrameWorkedWith== \"TRUE\", 1, 0)\n",
    "\n",
    "data2019$jQuery<- str_detect(data2019$WebFrameWorkedWith, \"jQuery\")\n",
    "data2019$jQuery<- ifelse(data2019$WebFrameWorkedWith== \"TRUE\", 1, 0)\n",
    "\n",
    "data2019$Others<- str_detect(data2019$WebFrameWorkedWith, \"Other\")\n",
    "data2019$Others<- ifelse(data2019$WebFrameWorkedWith== \"TRUE\", 1, 0)"
   ]
  },
  {
   "cell_type": "code",
   "execution_count": 8,
   "metadata": {},
   "outputs": [
    {
     "name": "stdout",
     "output_type": "stream",
     "text": [
      "'data.frame':\t88883 obs. of  100 variables:\n",
      " $ Respondent            : int  1 2 3 4 5 6 7 8 9 10 ...\n",
      " $ MainBranch            : Factor w/ 5 levels \"I am a developer by profession\",..: 2 2 3 1 1 3 1 4 1 1 ...\n",
      " $ Hobbyist              : Factor w/ 2 levels \"No\",\"Yes\": 2 1 2 1 2 2 1 2 2 2 ...\n",
      " $ OpenSourcer           : Factor w/ 4 levels \"Less than once a month but more than once per year\",..: 3 2 3 3 4 3 3 2 4 4 ...\n",
      " $ OpenSource            : Factor w/ 3 levels \"OSS is, on average, of HIGHER quality than proprietary / closed source software\",..: 3 3 3 3 1 3 3 1 3 1 ...\n",
      " $ Employment            : Factor w/ 6 levels \"Employed full-time\",..: 4 5 1 1 1 1 3 5 1 1 ...\n",
      " $ Country               : Factor w/ 179 levels \"Afghanistan\",..: 170 22 158 172 168 32 168 71 112 71 ...\n",
      " $ Student               : Factor w/ 3 levels \"No\",\"Yes, full-time\",..: 1 2 1 1 1 1 1 NA 1 1 ...\n",
      " $ EdLevel               : Factor w/ 9 levels \"Associate degree\",..: 6 8 2 2 2 2 2 2 9 4 ...\n",
      " $ UndergradMajor        : Factor w/ 12 levels \"A business discipline (ex. accounting, finance, marketing)\",..: NA NA 12 7 7 11 6 7 7 NA ...\n",
      " $ EduOther              : Factor w/ 492 levels \"Completed an industry certification program (e.g. MCPD)\",..: 485 232 485 405 406 405 485 490 372 NA ...\n",
      " $ OrgSize               : Ord.factor w/ 10 levels \"10,000 or more employees\"<..: NA NA 5 5 1 NA 9 NA 7 1 ...\n",
      " $ DevType               : Factor w/ 13141 levels \"Academic researcher\",..: NA 11998 9052 12607 2565 3222 9603 11819 7890 3056 ...\n",
      " $ YearsCode             : num  4 11.7 3 3 16 ...\n",
      " $ Age1stCode            : num  10 17 22 16 14 15 17 16 11 20 ...\n",
      " $ YearsCodePro          : Factor w/ 52 levels \"1\",\"10\",\"11\",..: NA NA 1 51 50 23 34 NA 34 2 ...\n",
      " $ CareerSat             : Ord.factor w/ 5 levels \"Very satisfied\"<..: NA NA 2 1 5 1 2 NA 2 4 ...\n",
      " $ JobSat                : Ord.factor w/ 6 levels \"Very satisfied\"<..: NA NA 2 2 4 2 3 NA 2 4 ...\n",
      " $ MgrIdiot              : Factor w/ 4 levels \"I don't have a manager\",..: NA NA 2 4 3 4 NA NA 3 3 ...\n",
      " $ MgrMoney              : Factor w/ 3 levels \"No\",\"Not sure\",..: NA NA 2 1 3 1 NA NA 1 3 ...\n",
      " $ MgrWant               : Factor w/ 4 levels \"I am already a manager\",..: NA NA 3 3 2 4 NA NA 3 4 ...\n",
      " $ JobSeek               : Factor w/ 3 levels \"I am actively looking for a job\",..: NA 1 3 2 2 2 3 NA 3 3 ...\n",
      " $ LastHireDate          : Factor w/ 6 levels \"1-2 years ago\",..: NA 3 1 4 4 1 6 NA 4 2 ...\n",
      " $ LastInt               : Factor w/ 63 levels \"Complete a take-home project\",..: NA NA 9 59 47 20 16 NA 26 NA ...\n",
      " $ FizzBuzz              : Factor w/ 2 levels \"No\",\"Yes\": NA NA 1 1 1 1 1 NA 2 1 ...\n",
      " $ JobFactors            : Factor w/ 175 levels \"Diversity of the company or organization\",..: NA 38 110 102 63 28 145 NA 22 110 ...\n",
      " $ ResumeUpdate          : Factor w/ 6 levels \"I had a negative experience or interaction at work\",..: NA 6 3 3 3 2 NA NA 3 NA ...\n",
      " $ CurrencySymbol        : Factor w/ 143 levels \"AED\",\"AFN\",\"ALL\",..: NA NA 119 129 127 26 129 NA 97 60 ...\n",
      " $ CurrencyDesc          : Factor w/ 144 levels \"Afghan afghani\",..: NA NA 128 136 134 26 136 NA 94 61 ...\n",
      " $ CompTotal             : num  NA NA 23000 61000 NA 40000 NA NA 138000 950000 ...\n",
      " $ CompFreq              : Factor w/ 3 levels \"Monthly\",\"Weekly\",..: NA NA 1 3 NA 1 NA NA 3 3 ...\n",
      " $ ConvertedComp         : num  NA NA 8820 61000 NA ...\n",
      " $ WorkWeekHrs           : num  NA NA 40 80 55 15 32 NA 32 70 ...\n",
      " $ WorkPlan              : Factor w/ 3 levels \"There's no schedule or spec; I work on what seems most important or urgent\",..: NA NA 1 1 2 1 2 NA 3 1 ...\n",
      " $ WorkChallenge         : Factor w/ 129 levels \"Being tasked with non-development work\",..: NA NA 40 NA 13 NA 6 NA 14 NA ...\n",
      " $ WorkRemote            : Factor w/ 7 levels \"A few days each month\",..: NA NA 6 6 1 1 3 NA 6 1 ...\n",
      " $ WorkLoc               : Factor w/ 3 levels \"Home\",\"Office\",..: NA NA 1 1 2 1 3 NA 2 1 ...\n",
      " $ ImpSyn                : Factor w/ 5 levels \"A little above average\",..: NA NA 3 2 1 1 3 NA 1 4 ...\n",
      " $ CodeRev               : Factor w/ 3 levels \"No\",\"Yes, because I see value in code review\",..: NA NA 1 1 2 1 2 NA 2 2 ...\n",
      " $ CodeRevHrs            : num  NA NA NA NA NA NA 6 NA 12 4 ...\n",
      " $ UnitTests             : Factor w/ 4 levels \"No, and I'm glad we don't\",..: NA NA 2 2 4 3 NA NA 3 4 ...\n",
      " $ PurchaseHow           : Factor w/ 4 levels \"Developers and management have nearly equal input into purchasing new technology\",..: NA NA 3 2 3 3 NA NA 3 NA ...\n",
      " $ PurchaseWhat          : Factor w/ 3 levels \"I have a great deal of influence\",..: NA NA 2 2 2 2 NA NA 3 NA ...\n",
      " $ LanguageWorkedWith    : Factor w/ 20098 levels \"Assembly\",\"Assembly;Bash/Shell/PowerShell\",..: 18620 16825 18347 14119 16637 19693 18863 6387 4447 12159 ...\n",
      " $ LanguageDesireNextYear: Factor w/ 27259 levels \"Assembly\",\"Assembly;Bash/Shell/PowerShell\",..: 15447 19619 22475 15204 25032 27082 25158 5622 6882 13524 ...\n",
      " $ DatabaseWorkedWith    : Factor w/ 3478 levels \"Cassandra\",\"Cassandra;Couchbase\",..: 3477 NA 3465 3446 1426 3405 NA 568 2164 2596 ...\n",
      " $ DatabaseDesireNextYear: Factor w/ 3923 levels \"Cassandra\",\"Cassandra;Couchbase\",..: 3865 3865 3910 3892 1869 3910 NA 533 3914 3082 ...\n",
      " $ PlatformWorkedWith    : Factor w/ 8731 levels \"Android\",\"Android;Arduino\",..: 8676 8726 NA 8644 4068 3688 8676 5935 5935 8644 ...\n",
      " $ PlatformDesireNextYear: Factor w/ 10795 levels \"Android\",\"Android;Arduino\",..: 2170 10790 NA 10713 4627 5038 10745 267 7815 5463 ...\n",
      " $ WebFrameWorkedWith    : Factor w/ 2142 levels \"Angular/Angular.js\",..: 1569 1408 NA NA 1487 NA 2115 1863 1958 56 ...\n",
      " $ WebFrameDesireNextYear: Factor w/ 2312 levels \"Angular/Angular.js\",..: 2136 1537 2282 NA 2155 NA 2283 1673 2124 78 ...\n",
      " $ MiscTechWorkedWith    : Factor w/ 2783 levels \".NET\",\".NET Core\",..: 2562 NA NA 1 2024 2422 NA 2495 2664 264 ...\n",
      " $ MiscTechDesireNextYear: Factor w/ 5565 levels \".NET\",\".NET Core\",..: 5246 NA NA 1 2988 5201 NA 917 5246 483 ...\n",
      " $ DevEnviron            : Factor w/ 7716 levels \"Android Studio\",..: 6451 4614 7698 5782 6533 1901 7441 3964 7696 1677 ...\n",
      " $ OpSys                 : Factor w/ 4 levels \"BSD\",\"Linux-based\",..: 4 4 2 4 2 4 4 2 3 4 ...\n",
      " $ Containers            : Factor w/ 21 levels \"Development\",..: 11 11 11 11 12 11 11 10 8 NA ...\n",
      " $ BlockchainOrg         : Factor w/ 5 levels \"Accepting Bitcoin or other coins and tokens as payments\",..: NA NA NA 5 5 5 NA NA 5 5 ...\n",
      " $ BlockchainIs          : Factor w/ 5 levels \"A passing fad\",..: NA 3 NA 4 NA NA 4 3 2 5 ...\n",
      " $ BetterLife            : Factor w/ 2 levels \"No\",\"Yes\": 2 2 2 2 2 1 1 2 1 1 ...\n",
      " $ ITperson              : Factor w/ 4 levels \"Also Yes\",\"Fortunately, someone else has that title\",..: 2 4 4 3 1 4 4 3 3 4 ...\n",
      " $ OffOn                 : Factor w/ 3 levels \"No\",\"What?\",\"Yes\": 3 3 3 3 3 1 1 3 3 3 ...\n",
      " $ SocialMedia           : Factor w/ 14 levels \"Facebook\",\"Hello\",..: 8 4 6 6 1 14 14 14 8 14 ...\n",
      " $ Extraversion          : Factor w/ 3 levels \"In real life (in person)\",..: 3 3 1 1 1 1 NA 1 1 2 ...\n",
      " $ ScreenName            : Factor w/ 5 levels \"Handle\",\"Login\",..: 5 5 5 5 5 2 NA 1 5 3 ...\n",
      " $ SOVisit1st            : Factor w/ 13 levels \"2008\",\"2009\",..: 10 10 4 7 13 4 7 5 6 NA ...\n",
      " $ SOVisitFreq           : Factor w/ 6 levels \"A few times per month or weekly\",..: 1 3 2 3 6 1 3 2 3 6 ...\n",
      " $ SOVisitTo             : Factor w/ 63 levels \"Contribute to a library of information\",..: 22 22 22 40 9 9 9 23 10 19 ...\n",
      " $ SOFindAnswer          : Factor w/ 5 levels \"1-2 times per week\",..: 2 2 3 1 5 4 2 4 2 2 ...\n",
      " $ SOTimeSaved           : Factor w/ 5 levels \"Stack Overflow was much faster\",..: 1 1 5 1 1 2 NA 2 5 5 ...\n",
      " $ SOHowMuchTime         : Factor w/ 4 levels \"0-10 minutes\",..: 3 2 NA 3 NA 4 NA 2 NA NA ...\n",
      " $ SOAccount             : Factor w/ 3 levels \"No\",\"Not sure / can't remember\",..: 1 3 3 3 3 3 3 3 3 3 ...\n",
      " $ SOPartFreq            : Factor w/ 6 levels \"A few times per month or weekly\",..: NA 1 5 5 1 4 5 5 5 1 ...\n",
      " $ SOJobs                : Factor w/ 3 levels \"No, I didn't know that Stack Overflow had a job board\",..: 1 2 3 3 2 2 3 3 2 3 ...\n",
      " $ EntTeams              : Factor w/ 3 levels \"No, and I don't know what those are\",..: 1 1 2 1 2 1 1 1 1 1 ...\n",
      " $ SOComm                : Factor w/ 6 levels \"Neutral\",\"No, not at all\",..: 1 6 1 3 5 3 1 5 6 6 ...\n",
      " $ WelcomeChange         : Factor w/ 6 levels \"A lot less welcome now than last year\",..: 3 3 3 3 3 3 2 2 3 5 ...\n",
      " $ SONewContent          : Factor w/ 15 levels \"Courses on technologies you're interested in\",..: 9 11 15 11 15 11 NA 11 NA 12 ...\n",
      " $ Age                   : num  14 19 28 22 30 ...\n",
      " $ Gender                : Factor w/ 7 levels \"Man\",\"Man;Non-binary, genderqueer, or gender non-conforming\",..: 1 1 1 1 1 1 1 1 1 NA ...\n",
      " $ Trans                 : Factor w/ 2 levels \"No\",\"Yes\": 1 1 1 1 1 1 1 1 1 NA ...\n",
      " $ Sexuality             : Factor w/ 7 levels \"Bisexual\",\"Bisexual;Gay or Lesbian\",..: 7 7 7 7 7 7 7 7 1 NA ...\n",
      " $ Ethnicity             : Factor w/ 196 levels \"Biracial\",\"Biracial;Multiracial\",..: NA NA NA 193 196 73 193 NA 193 NA ...\n",
      " $ Dependents            : Factor w/ 2 levels \"No\",\"Yes\": 1 1 2 1 1 1 2 NA 1 2 ...\n",
      " $ SurveyLength          : Factor w/ 3 levels \"Appropriate in length\",..: 1 1 1 1 1 2 1 1 1 2 ...\n",
      " $ SurveyEase            : Factor w/ 3 levels \"Difficult\",\"Easy\",..: 3 3 3 2 2 3 3 3 3 1 ...\n",
      " $ GenderMale            : num  1 1 1 1 1 1 1 1 1 NA ...\n",
      " $ GenderFemale          : num  0 0 0 0 0 0 0 0 0 NA ...\n",
      " $ GenderOther           : num  0 0 0 0 0 0 0 0 0 NA ...\n",
      " $ Angular               : num  0 0 NA NA 0 NA 0 0 0 1 ...\n",
      " $ Vue                   : num  0 0 NA NA 0 NA 0 0 0 0 ...\n",
      " $ Ruby                  : num  0 0 NA NA 0 NA 0 0 0 0 ...\n",
      " $ React                 : num  0 0 NA NA 0 NA 0 0 0 0 ...\n",
      " $ Laravel               : num  0 0 NA NA 0 NA 0 0 0 0 ...\n",
      " $ Flask                 : num  0 0 NA NA 0 NA 0 0 0 0 ...\n",
      " $ Express               : num  0 0 NA NA 0 NA 0 0 0 0 ...\n",
      " $ Drupal                : num  0 0 NA NA 0 NA 0 0 0 0 ...\n",
      " $ Django                : num  0 0 NA NA 0 NA 0 0 0 0 ...\n",
      " $ ASP                   : num  0 0 NA NA 0 NA 0 0 0 0 ...\n",
      " $ jQuery                : num  0 0 NA NA 0 NA 0 0 0 0 ...\n",
      "  [list output truncated]\n"
     ]
    }
   ],
   "source": [
    "str(data2019)"
   ]
  },
  {
   "cell_type": "code",
   "execution_count": 9,
   "metadata": {},
   "outputs": [
    {
     "data": {
      "image/png": "[encoded data removed]",
      "text/plain": [
       "plot without title"
      ]
     },
     "metadata": {},
     "output_type": "display_data"
    }
   ],
   "source": [
    "ggplot(data = data2019, aes(data2019$CareerSat)) + stat_count() + scale_x_discrete(labels = c(\"Very satisfied\"=\"Very Sat\", \"Slightly satisfied\" = \"Slightly Sat\", \"Neither satisfied nor dissatisfied\" = \"Neither nor\", \"Slightly dissatisfied\" = \"Slightly Dis\", \"Very dissatisfied\" = \"Very Dis\"))"
   ]
  },
  {
   "cell_type": "code",
   "execution_count": 10,
   "metadata": {},
   "outputs": [
    {
     "data": {
      "image/png": "[encoded data removed]",
      "text/plain": [
       "plot without title"
      ]
     },
     "metadata": {},
     "output_type": "display_data"
    }
   ],
   "source": [
    "ggplot(data = data2019, aes(data2019$JobSat)) + stat_count() + scale_x_discrete(labels = c(\"Very satisfied\"=\"Very Sat\", \"Slightly satisfied\" = \"Slightly Sat\", \"Neither satisfied nor dissatisfied\" = \"Neither nor\", \"Slightly dissatisfied\" = \"Slightly Dis\", \"Very dissatisfied\" = \"Very Dis\"))"
   ]
  },
  {
   "cell_type": "code",
   "execution_count": 11,
   "metadata": {},
   "outputs": [
    {
     "data": {
      "image/png": "[encoded data removed]",
      "text/plain": [
       "plot without title"
      ]
     },
     "metadata": {},
     "output_type": "display_data"
    }
   ],
   "source": [
    "ggplot(data = data2019, aes(data2019$OrgSize)) + stat_count() + scale_x_discrete(labels = c(\"Very satisfied\"=\"Very Sat\", \"Slightly satisfied\" = \"Slightly Sat\", \"Neither satisfied nor dissatisfied\" = \"Neither nor\", \"Slightly dissatisfied\" = \"Slightly Dis\", \"Very dissatisfied\" = \"Very Dis\"))"
   ]
  },
  {
   "cell_type": "markdown",
   "metadata": {},
   "source": [
    "After running these tables, we can see that career satisfaction received more responses from people being \n",
    "very satisfied while job satisfaction shows that more people are satisfied with their job rather than very satisfied. \n",
    "\n",
    "Also a lot of the respondednts seem to be the sole proprietor of the business / company they are part of. \n"
   ]
  },
  {
   "cell_type": "markdown",
   "metadata": {},
   "source": [
    "In the following cells, we will try to group job satisfaction and carreer satisfaction so we can see if there might be a potential correlation between these two values."
   ]
  },
  {
   "cell_type": "code",
   "execution_count": 12,
   "metadata": {},
   "outputs": [
    {
     "name": "stderr",
     "output_type": "stream",
     "text": [
      "Warning message:\n",
      "\"Factor `JobSat` contains implicit NA, consider using `forcats::fct_explicit_na`\"Warning message:\n",
      "\"Factor `CareerSat` contains implicit NA, consider using `forcats::fct_explicit_na`\""
     ]
    },
    {
     "data": {
      "image/png": "[encoded data removed]",
      "text/plain": [
       "plot without title"
      ]
     },
     "metadata": {},
     "output_type": "display_data"
    }
   ],
   "source": [
    "graphData <- data2019 %>% \n",
    "    group_by(JobSat, CareerSat) %>% \n",
    "        summarize(Total = n())\n",
    "ggplot(data = graphData, mapping = aes(x = graphData$JobSat, y = graphData$CareerSat, size = graphData$Total)) +\n",
    "  geom_point() +  geom_smooth(method = \"lm\", se = FALSE)"
   ]
  },
  {
   "cell_type": "markdown",
   "metadata": {},
   "source": [
    "From the graph above we can see that perhaps we might be able to observe later on some degree of corelation between the job satisfaction and career satisfaction (as it is expected). In order to confirm this and calculate some numbers, we need to convert some of the columns to numeric values. We do so in the following cell (the tables with counts serve as comparisons with the original dataset, to prove that we haven't changed the data in the transformation process)."
   ]
  },
  {
   "cell_type": "code",
   "execution_count": 13,
   "metadata": {},
   "outputs": [],
   "source": [
    "numericData2019 <- data2019\n",
    "\n",
    "numericData2019$CareerSat <- factor(numericData2019$CareerSat, levels = c(\"Very satisfied\", \"Slightly satisfied\", \"Neither satisfied nor dissatisfied\", \"Slightly dissatisfied\", \"Very dissatisfied\", \"NA\"), labels = c(1, 2, 3, 4, 5, 0), ordered = TRUE)\n",
    "numericData2019$JobSat <- factor(numericData2019$JobSat, levels = c(\"Very satisfied\",\"Slightly satisfied\",\"Neither satisfied nor dissatisfied\",\"Slightly dissatisfied\",\"Very dissatisfied\",\"NA\"), labels = c(1, 2, 3, 4, 5, 0), ordered = TRUE)\n",
    "numericData2019$OrgSize <- factor(numericData2019$OrgSize, levels = c(\"10,000 or more employees\",\"5,000 to 9,999 employee\",\"1,000 to 4,999 employees\",\"500 to 999 employees\",\"100 to 499 employees\",\"20 to 99 employees\",\"10 to 19 employees\",\"2-9 employees\",\"Just me - I am a freelancer, sole proprietor, etc.\",\"NA\"), labels = c(9, 8, 7, 6, 5, 4, 3, 2, 1, 0), ordered = TRUE)\n",
    "\n",
    "numericData2019$CareerSat.f <- as.numeric(factor(numericData2019$CareerSat))\n",
    "numericData2019$JobSat.f <- as.numeric(factor(numericData2019$JobSat))\n",
    "numericData2019$OrgSize.f <- as.numeric(factor(numericData2019$OrgSize))\n",
    "\n",
    "###############__Validating that the data count remains the same after transformation__#########################################  \n",
    "\n",
    "#data2019 %>% group_by(CareerSat) %>% summarize(count = n())\n",
    "#data2019 %>% group_by(JobSat) %>% summarize(count = n())\n",
    "#data2019 %>% group_by(OrgSize) %>% summarize(count = n())\n",
    "\n",
    "#numericData2019 %>% group_by(CareerSat) %>% summarize(count = n())\n",
    "#numericData2019 %>% group_by(JobSat) %>% summarize(count = n())\n",
    "#numericData2019 %>% group_by(OrgSize) %>% summarize(count = n())"
   ]
  },
  {
   "cell_type": "code",
   "execution_count": 14,
   "metadata": {},
   "outputs": [
    {
     "name": "stdout",
     "output_type": "stream",
     "text": [
      "'data.frame':\t88883 obs. of  103 variables:\n",
      " $ Respondent            : int  1 2 3 4 5 6 7 8 9 10 ...\n",
      " $ MainBranch            : Factor w/ 5 levels \"I am a developer by profession\",..: 2 2 3 1 1 3 1 4 1 1 ...\n",
      " $ Hobbyist              : Factor w/ 2 levels \"No\",\"Yes\": 2 1 2 1 2 2 1 2 2 2 ...\n",
      " $ OpenSourcer           : Factor w/ 4 levels \"Less than once a month but more than once per year\",..: 3 2 3 3 4 3 3 2 4 4 ...\n",
      " $ OpenSource            : Factor w/ 3 levels \"OSS is, on average, of HIGHER quality than proprietary / closed source software\",..: 3 3 3 3 1 3 3 1 3 1 ...\n",
      " $ Employment            : Factor w/ 6 levels \"Employed full-time\",..: 4 5 1 1 1 1 3 5 1 1 ...\n",
      " $ Country               : Factor w/ 179 levels \"Afghanistan\",..: 170 22 158 172 168 32 168 71 112 71 ...\n",
      " $ Student               : Factor w/ 3 levels \"No\",\"Yes, full-time\",..: 1 2 1 1 1 1 1 NA 1 1 ...\n",
      " $ EdLevel               : Factor w/ 9 levels \"Associate degree\",..: 6 8 2 2 2 2 2 2 9 4 ...\n",
      " $ UndergradMajor        : Factor w/ 12 levels \"A business discipline (ex. accounting, finance, marketing)\",..: NA NA 12 7 7 11 6 7 7 NA ...\n",
      " $ EduOther              : Factor w/ 492 levels \"Completed an industry certification program (e.g. MCPD)\",..: 485 232 485 405 406 405 485 490 372 NA ...\n",
      " $ OrgSize               : Ord.factor w/ 10 levels \"9\"<\"8\"<\"7\"<\"6\"<..: NA NA 5 5 1 NA 9 NA 7 1 ...\n",
      " $ DevType               : Factor w/ 13141 levels \"Academic researcher\",..: NA 11998 9052 12607 2565 3222 9603 11819 7890 3056 ...\n",
      " $ YearsCode             : num  4 11.7 3 3 16 ...\n",
      " $ Age1stCode            : num  10 17 22 16 14 15 17 16 11 20 ...\n",
      " $ YearsCodePro          : Factor w/ 52 levels \"1\",\"10\",\"11\",..: NA NA 1 51 50 23 34 NA 34 2 ...\n",
      " $ CareerSat             : Ord.factor w/ 6 levels \"1\"<\"2\"<\"3\"<\"4\"<..: NA NA 2 1 5 1 2 NA 2 4 ...\n",
      " $ JobSat                : Ord.factor w/ 6 levels \"1\"<\"2\"<\"3\"<\"4\"<..: NA NA 2 2 4 2 3 NA 2 4 ...\n",
      " $ MgrIdiot              : Factor w/ 4 levels \"I don't have a manager\",..: NA NA 2 4 3 4 NA NA 3 3 ...\n",
      " $ MgrMoney              : Factor w/ 3 levels \"No\",\"Not sure\",..: NA NA 2 1 3 1 NA NA 1 3 ...\n",
      " $ MgrWant               : Factor w/ 4 levels \"I am already a manager\",..: NA NA 3 3 2 4 NA NA 3 4 ...\n",
      " $ JobSeek               : Factor w/ 3 levels \"I am actively looking for a job\",..: NA 1 3 2 2 2 3 NA 3 3 ...\n",
      " $ LastHireDate          : Factor w/ 6 levels \"1-2 years ago\",..: NA 3 1 4 4 1 6 NA 4 2 ...\n",
      " $ LastInt               : Factor w/ 63 levels \"Complete a take-home project\",..: NA NA 9 59 47 20 16 NA 26 NA ...\n",
      " $ FizzBuzz              : Factor w/ 2 levels \"No\",\"Yes\": NA NA 1 1 1 1 1 NA 2 1 ...\n",
      " $ JobFactors            : Factor w/ 175 levels \"Diversity of the company or organization\",..: NA 38 110 102 63 28 145 NA 22 110 ...\n",
      " $ ResumeUpdate          : Factor w/ 6 levels \"I had a negative experience or interaction at work\",..: NA 6 3 3 3 2 NA NA 3 NA ...\n",
      " $ CurrencySymbol        : Factor w/ 143 levels \"AED\",\"AFN\",\"ALL\",..: NA NA 119 129 127 26 129 NA 97 60 ...\n",
      " $ CurrencyDesc          : Factor w/ 144 levels \"Afghan afghani\",..: NA NA 128 136 134 26 136 NA 94 61 ...\n",
      " $ CompTotal             : num  NA NA 23000 61000 NA 40000 NA NA 138000 950000 ...\n",
      " $ CompFreq              : Factor w/ 3 levels \"Monthly\",\"Weekly\",..: NA NA 1 3 NA 1 NA NA 3 3 ...\n",
      " $ ConvertedComp         : num  NA NA 8820 61000 NA ...\n",
      " $ WorkWeekHrs           : num  NA NA 40 80 55 15 32 NA 32 70 ...\n",
      " $ WorkPlan              : Factor w/ 3 levels \"There's no schedule or spec; I work on what seems most important or urgent\",..: NA NA 1 1 2 1 2 NA 3 1 ...\n",
      " $ WorkChallenge         : Factor w/ 129 levels \"Being tasked with non-development work\",..: NA NA 40 NA 13 NA 6 NA 14 NA ...\n",
      " $ WorkRemote            : Factor w/ 7 levels \"A few days each month\",..: NA NA 6 6 1 1 3 NA 6 1 ...\n",
      " $ WorkLoc               : Factor w/ 3 levels \"Home\",\"Office\",..: NA NA 1 1 2 1 3 NA 2 1 ...\n",
      " $ ImpSyn                : Factor w/ 5 levels \"A little above average\",..: NA NA 3 2 1 1 3 NA 1 4 ...\n",
      " $ CodeRev               : Factor w/ 3 levels \"No\",\"Yes, because I see value in code review\",..: NA NA 1 1 2 1 2 NA 2 2 ...\n",
      " $ CodeRevHrs            : num  NA NA NA NA NA NA 6 NA 12 4 ...\n",
      " $ UnitTests             : Factor w/ 4 levels \"No, and I'm glad we don't\",..: NA NA 2 2 4 3 NA NA 3 4 ...\n",
      " $ PurchaseHow           : Factor w/ 4 levels \"Developers and management have nearly equal input into purchasing new technology\",..: NA NA 3 2 3 3 NA NA 3 NA ...\n",
      " $ PurchaseWhat          : Factor w/ 3 levels \"I have a great deal of influence\",..: NA NA 2 2 2 2 NA NA 3 NA ...\n",
      " $ LanguageWorkedWith    : Factor w/ 20098 levels \"Assembly\",\"Assembly;Bash/Shell/PowerShell\",..: 18620 16825 18347 14119 16637 19693 18863 6387 4447 12159 ...\n",
      " $ LanguageDesireNextYear: Factor w/ 27259 levels \"Assembly\",\"Assembly;Bash/Shell/PowerShell\",..: 15447 19619 22475 15204 25032 27082 25158 5622 6882 13524 ...\n",
      " $ DatabaseWorkedWith    : Factor w/ 3478 levels \"Cassandra\",\"Cassandra;Couchbase\",..: 3477 NA 3465 3446 1426 3405 NA 568 2164 2596 ...\n",
      " $ DatabaseDesireNextYear: Factor w/ 3923 levels \"Cassandra\",\"Cassandra;Couchbase\",..: 3865 3865 3910 3892 1869 3910 NA 533 3914 3082 ...\n",
      " $ PlatformWorkedWith    : Factor w/ 8731 levels \"Android\",\"Android;Arduino\",..: 8676 8726 NA 8644 4068 3688 8676 5935 5935 8644 ...\n",
      " $ PlatformDesireNextYear: Factor w/ 10795 levels \"Android\",\"Android;Arduino\",..: 2170 10790 NA 10713 4627 5038 10745 267 7815 5463 ...\n",
      " $ WebFrameWorkedWith    : Factor w/ 2142 levels \"Angular/Angular.js\",..: 1569 1408 NA NA 1487 NA 2115 1863 1958 56 ...\n",
      " $ WebFrameDesireNextYear: Factor w/ 2312 levels \"Angular/Angular.js\",..: 2136 1537 2282 NA 2155 NA 2283 1673 2124 78 ...\n",
      " $ MiscTechWorkedWith    : Factor w/ 2783 levels \".NET\",\".NET Core\",..: 2562 NA NA 1 2024 2422 NA 2495 2664 264 ...\n",
      " $ MiscTechDesireNextYear: Factor w/ 5565 levels \".NET\",\".NET Core\",..: 5246 NA NA 1 2988 5201 NA 917 5246 483 ...\n",
      " $ DevEnviron            : Factor w/ 7716 levels \"Android Studio\",..: 6451 4614 7698 5782 6533 1901 7441 3964 7696 1677 ...\n",
      " $ OpSys                 : Factor w/ 4 levels \"BSD\",\"Linux-based\",..: 4 4 2 4 2 4 4 2 3 4 ...\n",
      " $ Containers            : Factor w/ 21 levels \"Development\",..: 11 11 11 11 12 11 11 10 8 NA ...\n",
      " $ BlockchainOrg         : Factor w/ 5 levels \"Accepting Bitcoin or other coins and tokens as payments\",..: NA NA NA 5 5 5 NA NA 5 5 ...\n",
      " $ BlockchainIs          : Factor w/ 5 levels \"A passing fad\",..: NA 3 NA 4 NA NA 4 3 2 5 ...\n",
      " $ BetterLife            : Factor w/ 2 levels \"No\",\"Yes\": 2 2 2 2 2 1 1 2 1 1 ...\n",
      " $ ITperson              : Factor w/ 4 levels \"Also Yes\",\"Fortunately, someone else has that title\",..: 2 4 4 3 1 4 4 3 3 4 ...\n",
      " $ OffOn                 : Factor w/ 3 levels \"No\",\"What?\",\"Yes\": 3 3 3 3 3 1 1 3 3 3 ...\n",
      " $ SocialMedia           : Factor w/ 14 levels \"Facebook\",\"Hello\",..: 8 4 6 6 1 14 14 14 8 14 ...\n",
      " $ Extraversion          : Factor w/ 3 levels \"In real life (in person)\",..: 3 3 1 1 1 1 NA 1 1 2 ...\n",
      " $ ScreenName            : Factor w/ 5 levels \"Handle\",\"Login\",..: 5 5 5 5 5 2 NA 1 5 3 ...\n",
      " $ SOVisit1st            : Factor w/ 13 levels \"2008\",\"2009\",..: 10 10 4 7 13 4 7 5 6 NA ...\n",
      " $ SOVisitFreq           : Factor w/ 6 levels \"A few times per month or weekly\",..: 1 3 2 3 6 1 3 2 3 6 ...\n",
      " $ SOVisitTo             : Factor w/ 63 levels \"Contribute to a library of information\",..: 22 22 22 40 9 9 9 23 10 19 ...\n",
      " $ SOFindAnswer          : Factor w/ 5 levels \"1-2 times per week\",..: 2 2 3 1 5 4 2 4 2 2 ...\n",
      " $ SOTimeSaved           : Factor w/ 5 levels \"Stack Overflow was much faster\",..: 1 1 5 1 1 2 NA 2 5 5 ...\n",
      " $ SOHowMuchTime         : Factor w/ 4 levels \"0-10 minutes\",..: 3 2 NA 3 NA 4 NA 2 NA NA ...\n",
      " $ SOAccount             : Factor w/ 3 levels \"No\",\"Not sure / can't remember\",..: 1 3 3 3 3 3 3 3 3 3 ...\n",
      " $ SOPartFreq            : Factor w/ 6 levels \"A few times per month or weekly\",..: NA 1 5 5 1 4 5 5 5 1 ...\n",
      " $ SOJobs                : Factor w/ 3 levels \"No, I didn't know that Stack Overflow had a job board\",..: 1 2 3 3 2 2 3 3 2 3 ...\n",
      " $ EntTeams              : Factor w/ 3 levels \"No, and I don't know what those are\",..: 1 1 2 1 2 1 1 1 1 1 ...\n",
      " $ SOComm                : Factor w/ 6 levels \"Neutral\",\"No, not at all\",..: 1 6 1 3 5 3 1 5 6 6 ...\n",
      " $ WelcomeChange         : Factor w/ 6 levels \"A lot less welcome now than last year\",..: 3 3 3 3 3 3 2 2 3 5 ...\n",
      " $ SONewContent          : Factor w/ 15 levels \"Courses on technologies you're interested in\",..: 9 11 15 11 15 11 NA 11 NA 12 ...\n",
      " $ Age                   : num  14 19 28 22 30 ...\n",
      " $ Gender                : Factor w/ 7 levels \"Man\",\"Man;Non-binary, genderqueer, or gender non-conforming\",..: 1 1 1 1 1 1 1 1 1 NA ...\n",
      " $ Trans                 : Factor w/ 2 levels \"No\",\"Yes\": 1 1 1 1 1 1 1 1 1 NA ...\n",
      " $ Sexuality             : Factor w/ 7 levels \"Bisexual\",\"Bisexual;Gay or Lesbian\",..: 7 7 7 7 7 7 7 7 1 NA ...\n",
      " $ Ethnicity             : Factor w/ 196 levels \"Biracial\",\"Biracial;Multiracial\",..: NA NA NA 193 196 73 193 NA 193 NA ...\n",
      " $ Dependents            : Factor w/ 2 levels \"No\",\"Yes\": 1 1 2 1 1 1 2 NA 1 2 ...\n",
      " $ SurveyLength          : Factor w/ 3 levels \"Appropriate in length\",..: 1 1 1 1 1 2 1 1 1 2 ...\n",
      " $ SurveyEase            : Factor w/ 3 levels \"Difficult\",\"Easy\",..: 3 3 3 2 2 3 3 3 3 1 ...\n",
      " $ GenderMale            : num  1 1 1 1 1 1 1 1 1 NA ...\n",
      " $ GenderFemale          : num  0 0 0 0 0 0 0 0 0 NA ...\n",
      " $ GenderOther           : num  0 0 0 0 0 0 0 0 0 NA ...\n",
      " $ Angular               : num  0 0 NA NA 0 NA 0 0 0 1 ...\n",
      " $ Vue                   : num  0 0 NA NA 0 NA 0 0 0 0 ...\n",
      " $ Ruby                  : num  0 0 NA NA 0 NA 0 0 0 0 ...\n",
      " $ React                 : num  0 0 NA NA 0 NA 0 0 0 0 ...\n",
      " $ Laravel               : num  0 0 NA NA 0 NA 0 0 0 0 ...\n",
      " $ Flask                 : num  0 0 NA NA 0 NA 0 0 0 0 ...\n",
      " $ Express               : num  0 0 NA NA 0 NA 0 0 0 0 ...\n",
      " $ Drupal                : num  0 0 NA NA 0 NA 0 0 0 0 ...\n",
      " $ Django                : num  0 0 NA NA 0 NA 0 0 0 0 ...\n",
      " $ ASP                   : num  0 0 NA NA 0 NA 0 0 0 0 ...\n",
      " $ jQuery                : num  0 0 NA NA 0 NA 0 0 0 0 ...\n",
      "  [list output truncated]\n"
     ]
    }
   ],
   "source": [
    "str(numericData2019)"
   ]
  },
  {
   "cell_type": "code",
   "execution_count": 15,
   "metadata": {},
   "outputs": [
    {
     "data": {
      "text/html": [
       "<table>\n",
       "<thead><tr><th scope=col>Angular</th><th scope=col>count</th></tr></thead>\n",
       "<tbody>\n",
       "\t<tr><td> 0   </td><td>45490</td></tr>\n",
       "\t<tr><td> 1   </td><td>19532</td></tr>\n",
       "\t<tr><td>NA   </td><td>23861</td></tr>\n",
       "</tbody>\n",
       "</table>\n"
      ],
      "text/latex": [
       "\\begin{tabular}{r|ll}\n",
       " Angular & count\\\\\n",
       "\\hline\n",
       "\t  0    & 45490\\\\\n",
       "\t  1    & 19532\\\\\n",
       "\t NA    & 23861\\\\\n",
       "\\end{tabular}\n"
      ],
      "text/markdown": [
       "\n",
       "| Angular | count |\n",
       "|---|---|\n",
       "|  0    | 45490 |\n",
       "|  1    | 19532 |\n",
       "| NA    | 23861 |\n",
       "\n"
      ],
      "text/plain": [
       "  Angular count\n",
       "1  0      45490\n",
       "2  1      19532\n",
       "3 NA      23861"
      ]
     },
     "metadata": {},
     "output_type": "display_data"
    }
   ],
   "source": [
    "numericData2019 %>% group_by(Angular) %>% summarize(count = n())"
   ]
  },
  {
   "cell_type": "markdown",
   "metadata": {},
   "source": [
    "In the following cell we transofrm some other columns which might also be worth considering in the model."
   ]
  },
  {
   "cell_type": "code",
   "execution_count": 16,
   "metadata": {},
   "outputs": [],
   "source": [
    "numericData2019$Hobbyist <- factor(numericData2019$Hobbyist, levels = c(\"Yes\", \"No\"), labels = c(1, 2), ordered = TRUE)\n",
    "numericData2019$Student <- factor(numericData2019$Student, levels = c(\"Yes, full-time\", \"Yes, part-time\", \"No\"), labels = c(1, 2, 3), ordered = TRUE)\n",
    "numericData2019$EdLevel <- factor(numericData2019$EdLevel, levels = c(\"Other doctoral degree (Ph.D, Ed.D., etc.)\", \"Masterâ€™s degree (MA, MS, M.Eng., MBA, etc.)\", \"Bachelorâ€™s degree (BA, BS, B.Eng., etc.)\", \"Associate degree\", \"Professional degree (JD, MD, etc.)\", \"Some college/university study without earning a degree\", \"Secondary school (e.g. American high school, German Realschule or Gymnasium, etc.)\", \"Primary/elementary school\", \"I never completed any formal education\"), labels = c(9, 8, 7, 6, 5, 4, 3, 2, 1), ordered = TRUE)\n",
    "numericData2019$OpSys <- factor(numericData2019$OpSys, levels = c(\"Windows\", \"MacOS\", \"Linux-based\", \"BSD\"), labels = c(1, 2, 3, 4), ordered = TRUE)\n",
    "numericData2019$Extraversion <- factor(numericData2019$Extraversion, levels = c(\"In real life (in person)\", \"Online\", \"Neither\"), labels = c(1, 2, 3), ordered = TRUE)\n",
    "numericData2019$Dependents <- factor(numericData2019$Dependents, levels = c(\"Yes\", \"No\"), labels = c(1, 2), ordered = TRUE)\n",
    "\n",
    "numericData2019$Hobbyist.f <- as.numeric(factor(numericData2019$Hobbyist))\n",
    "numericData2019$Student.f <- as.numeric(factor(numericData2019$Student))\n",
    "numericData2019$EdLevel.f <- as.numeric(factor(numericData2019$EdLevel))\n",
    "numericData2019$OpSys.f <- as.numeric(factor(numericData2019$OpSys))\n",
    "numericData2019$Extraversion.f <- as.numeric(factor(numericData2019$Extraversion))\n",
    "numericData2019$Dependents.f <- as.numeric(factor(numericData2019$Dependents))"
   ]
  },
  {
   "cell_type": "markdown",
   "metadata": {},
   "source": [
    "We also need to remove the rows which contain NA values in one of the relevant columns (JobSat, CareerSat and OrgSize)."
   ]
  },
  {
   "cell_type": "markdown",
   "metadata": {},
   "source": [
    "In the tree we needed categorical variables that are not numbers (gathered in dataset cleanNumericData2019ForTree); yet in finding the Pearson's corellation between the selected variables, we needed numerical values (gathered in the cleanNumericData2019).  "
   ]
  },
  {
   "cell_type": "code",
   "execution_count": 17,
   "metadata": {},
   "outputs": [
    {
     "data": {
      "text/html": [
       "<ol class=list-inline>\n",
       "\t<li>88883</li>\n",
       "\t<li>109</li>\n",
       "</ol>\n"
      ],
      "text/latex": [
       "\\begin{enumerate*}\n",
       "\\item 88883\n",
       "\\item 109\n",
       "\\end{enumerate*}\n"
      ],
      "text/markdown": [
       "1. 88883\n",
       "2. 109\n",
       "\n",
       "\n"
      ],
      "text/plain": [
       "[1] 88883   109"
      ]
     },
     "metadata": {},
     "output_type": "display_data"
    },
    {
     "data": {
      "text/html": [
       "<ol class=list-inline>\n",
       "\t<li>49951</li>\n",
       "\t<li>20</li>\n",
       "</ol>\n"
      ],
      "text/latex": [
       "\\begin{enumerate*}\n",
       "\\item 49951\n",
       "\\item 20\n",
       "\\end{enumerate*}\n"
      ],
      "text/markdown": [
       "1. 49951\n",
       "2. 20\n",
       "\n",
       "\n"
      ],
      "text/plain": [
       "[1] 49951    20"
      ]
     },
     "metadata": {},
     "output_type": "display_data"
    },
    {
     "data": {
      "text/html": [
       "<ol class=list-inline>\n",
       "\t<li>49951</li>\n",
       "\t<li>20</li>\n",
       "</ol>\n"
      ],
      "text/latex": [
       "\\begin{enumerate*}\n",
       "\\item 49951\n",
       "\\item 20\n",
       "\\end{enumerate*}\n"
      ],
      "text/markdown": [
       "1. 49951\n",
       "2. 20\n",
       "\n",
       "\n"
      ],
      "text/plain": [
       "[1] 49951    20"
      ]
     },
     "metadata": {},
     "output_type": "display_data"
    }
   ],
   "source": [
    "#### Observing that the data without NA is smaller yet cleaner #########\n",
    "dim(numericData2019)\n",
    "\n",
    "cleanNumericData2019 <- select(numericData2019, JobSat.f, CareerSat.f, OrgSize.f, YearsCode, Age1stCode, Age, GenderMale, GenderFemale, GenderOther, Angular, Vue, Ruby, React, Laravel, Flask, Express, Drupal, Django, ASP, jQuery)\n",
    "cleanNumericData2019ForTree <- select(numericData2019, CareerSat, OrgSize, YearsCode, Age1stCode, Age,  GenderMale, GenderFemale, GenderOther, JobSat, Angular, Vue, Ruby, React, Laravel, Flask, Express, Drupal, Django, ASP, jQuery)\n",
    "cleanNumericData2019 <- cleanNumericData2019[complete.cases(cleanNumericData2019), ]\n",
    "cleanNumericData2019ForTree <- cleanNumericData2019ForTree[complete.cases(cleanNumericData2019ForTree), ]\n",
    "\n",
    "dim(cleanNumericData2019)\n",
    "dim(cleanNumericData2019ForTree)"
   ]
  },
  {
   "cell_type": "code",
   "execution_count": 18,
   "metadata": {},
   "outputs": [
    {
     "data": {
      "text/html": [
       "<ol class=list-inline>\n",
       "\t<li>88883</li>\n",
       "\t<li>109</li>\n",
       "</ol>\n"
      ],
      "text/latex": [
       "\\begin{enumerate*}\n",
       "\\item 88883\n",
       "\\item 109\n",
       "\\end{enumerate*}\n"
      ],
      "text/markdown": [
       "1. 88883\n",
       "2. 109\n",
       "\n",
       "\n"
      ],
      "text/plain": [
       "[1] 88883   109"
      ]
     },
     "metadata": {},
     "output_type": "display_data"
    },
    {
     "data": {
      "text/html": [
       "<ol class=list-inline>\n",
       "\t<li>46618</li>\n",
       "\t<li>26</li>\n",
       "</ol>\n"
      ],
      "text/latex": [
       "\\begin{enumerate*}\n",
       "\\item 46618\n",
       "\\item 26\n",
       "\\end{enumerate*}\n"
      ],
      "text/markdown": [
       "1. 46618\n",
       "2. 26\n",
       "\n",
       "\n"
      ],
      "text/plain": [
       "[1] 46618    26"
      ]
     },
     "metadata": {},
     "output_type": "display_data"
    },
    {
     "data": {
      "text/html": [
       "<ol class=list-inline>\n",
       "\t<li>49507</li>\n",
       "\t<li>22</li>\n",
       "</ol>\n"
      ],
      "text/latex": [
       "\\begin{enumerate*}\n",
       "\\item 49507\n",
       "\\item 22\n",
       "\\end{enumerate*}\n"
      ],
      "text/markdown": [
       "1. 49507\n",
       "2. 22\n",
       "\n",
       "\n"
      ],
      "text/plain": [
       "[1] 49507    22"
      ]
     },
     "metadata": {},
     "output_type": "display_data"
    }
   ],
   "source": [
    "# This is here to see how much data we lose when trying to clean all the columns (the old ones + new ones) \n",
    "# vs. only the new columns - funkily enough, there's not such a big difference :D \n",
    "\n",
    "dim(numericData2019)\n",
    "\n",
    "cleanNumericData2019_allCols <- select(numericData2019, JobSat.f, CareerSat.f, OrgSize.f, YearsCode, Age1stCode, Age, Hobbyist.f, Student.f, EdLevel.f, OpSys.f, Extraversion.f, Dependents.f, GenderMale, GenderFemale, GenderOther, Angular, Vue, Ruby, React, Laravel, Flask, Express, Drupal, Django, ASP, jQuery) #, Gender)\n",
    "cleanNumericData2019_allCols <- cleanNumericData2019_allCols[complete.cases(cleanNumericData2019_allCols), ]\n",
    "\n",
    "cleanNumericData2019_newCols <- select(numericData2019, JobSat.f, CareerSat.f, Hobbyist.f, Student.f, EdLevel.f, OpSys.f, Extraversion.f, Dependents.f, GenderMale, GenderFemale, GenderOther, Angular, Vue, Ruby, React, Laravel, Flask, Express, Drupal, Django, ASP, jQuery)\n",
    "cleanNumericData2019_newCols <- cleanNumericData2019_newCols[complete.cases(cleanNumericData2019_newCols), ]\n",
    "\n",
    "dim(cleanNumericData2019_allCols)\n",
    "dim(cleanNumericData2019_newCols)"
   ]
  },
  {
   "cell_type": "markdown",
   "metadata": {},
   "source": [
    "The above numbers show how removing the NA for only these selected values, means that we are losing approx 22.000 observations.\n",
    "Below we will use this new data with the above used graph in order to see if a potential correlation can still be seen. "
   ]
  },
  {
   "cell_type": "code",
   "execution_count": 19,
   "metadata": {},
   "outputs": [
    {
     "data": {
      "text/html": [
       "<ol class=list-inline>\n",
       "\t<li>88883</li>\n",
       "\t<li>109</li>\n",
       "</ol>\n"
      ],
      "text/latex": [
       "\\begin{enumerate*}\n",
       "\\item 88883\n",
       "\\item 109\n",
       "\\end{enumerate*}\n"
      ],
      "text/markdown": [
       "1. 88883\n",
       "2. 109\n",
       "\n",
       "\n"
      ],
      "text/plain": [
       "[1] 88883   109"
      ]
     },
     "metadata": {},
     "output_type": "display_data"
    }
   ],
   "source": [
    "# testing the NAs with more data, how much will we lose here :D \n",
    "dim(numericData2019)\n",
    "\n",
    "cleanNumericData2019 <- select(numericData2019, JobSat.f, CareerSat.f, OrgSize.f, YearsCode, Age1stCode, Age, GenderMale, GenderFemale, GenderOther)"
   ]
  },
  {
   "cell_type": "code",
   "execution_count": 20,
   "metadata": {},
   "outputs": [
    {
     "name": "stderr",
     "output_type": "stream",
     "text": [
      "Warning message:\n",
      "\"Removed 6 rows containing missing values (geom_point).\""
     ]
    },
    {
     "data": {
      "image/png": "[encoded data removed]",
      "text/plain": [
       "plot without title"
      ]
     },
     "metadata": {},
     "output_type": "display_data"
    }
   ],
   "source": [
    "graphNumData <- cleanNumericData2019 %>% \n",
    "    group_by(JobSat.f, CareerSat.f) %>% \n",
    "        summarize(Total = n())\n",
    "\n",
    "ggplot(data = graphNumData, mapping = aes(x = graphNumData$JobSat.f, y = graphNumData$CareerSat.f, size = graphNumData$Total)) +\n",
    "  geom_point()\n"
   ]
  },
  {
   "cell_type": "markdown",
   "metadata": {},
   "source": [
    "From this plot, it seems that removing the NA values resulted in a direct proportional decrease, more or less, hence the correlation posibility concluded previously is not affected by the NAs. \n",
    "\n",
    "Based on the further transformed data, we will try to calculate some correlations.\n",
    "Next we will try and actually plot for some correlations. "
   ]
  },
  {
   "cell_type": "markdown",
   "metadata": {},
   "source": [
    "## Testing the above selected data against supervised lerning models"
   ]
  },
  {
   "cell_type": "markdown",
   "metadata": {},
   "source": [
    "In this section, we will create a model for supervised machine learning. In our case, we would like see whether the career satisfaction level can be inferred based on other variables from the previously cleaned dataset. Since we know the career satisfaction levels, we will focus on supervised machine learning practices. Given the fact that our data are more of a categorical nature, we will create a classification model."
   ]
  },
  {
   "cell_type": "markdown",
   "metadata": {},
   "source": [
    "First, however, we'll try to find correlations between different variables from the set. Knowing which correlations are the highest will help us to choose the right columns for training the model. In the following cells, we'll create a correlation matrix followed by a correlation heatmap to see which columns might make a good fit for the model."
   ]
  },
  {
   "cell_type": "code",
   "execution_count": 21,
   "metadata": {
    "scrolled": true
   },
   "outputs": [
    {
     "data": {
      "text/html": [
       "<table>\n",
       "<thead><tr><th></th><th scope=col>JobSat.f</th><th scope=col>CareerSat.f</th><th scope=col>OrgSize.f</th><th scope=col>YearsCode</th><th scope=col>Age1stCode</th><th scope=col>Age</th><th scope=col>GenderMale</th><th scope=col>GenderFemale</th><th scope=col>GenderOther</th></tr></thead>\n",
       "<tbody>\n",
       "\t<tr><th scope=row>JobSat.f</th><td> 1    </td><td>NA    </td><td>NA    </td><td>    NA</td><td>    NA</td><td>   NA </td><td>NA    </td><td>NA    </td><td>NA    </td></tr>\n",
       "\t<tr><th scope=row>CareerSat.f</th><td>NA    </td><td> 1    </td><td>NA    </td><td>    NA</td><td>    NA</td><td>   NA </td><td>NA    </td><td>NA    </td><td>NA    </td></tr>\n",
       "\t<tr><th scope=row>OrgSize.f</th><td>NA    </td><td>NA    </td><td> 1    </td><td>    NA</td><td>    NA</td><td>   NA </td><td>NA    </td><td>NA    </td><td>NA    </td></tr>\n",
       "\t<tr><th scope=row>YearsCode</th><td>NA    </td><td>NA    </td><td>NA    </td><td> 1.000</td><td>-0.245</td><td>0.730 </td><td>NA    </td><td>NA    </td><td>NA    </td></tr>\n",
       "\t<tr><th scope=row>Age1stCode</th><td>NA    </td><td>NA    </td><td>NA    </td><td>-0.245</td><td> 1.000</td><td>0.098 </td><td>NA    </td><td>NA    </td><td>NA    </td></tr>\n",
       "\t<tr><th scope=row>Age</th><td>NA    </td><td>NA    </td><td>NA    </td><td> 0.730</td><td> 0.098</td><td>1.000 </td><td>NA    </td><td>NA    </td><td>NA    </td></tr>\n",
       "\t<tr><th scope=row>GenderMale</th><td>NA    </td><td>NA    </td><td>NA    </td><td>    NA</td><td>    NA</td><td>   NA </td><td> 1    </td><td>NA    </td><td>NA    </td></tr>\n",
       "\t<tr><th scope=row>GenderFemale</th><td>NA    </td><td>NA    </td><td>NA    </td><td>    NA</td><td>    NA</td><td>   NA </td><td>NA    </td><td> 1    </td><td>NA    </td></tr>\n",
       "\t<tr><th scope=row>GenderOther</th><td>NA    </td><td>NA    </td><td>NA    </td><td>    NA</td><td>    NA</td><td>   NA </td><td>NA    </td><td>NA    </td><td> 1    </td></tr>\n",
       "</tbody>\n",
       "</table>\n"
      ],
      "text/latex": [
       "\\begin{tabular}{r|lllllllll}\n",
       "  & JobSat.f & CareerSat.f & OrgSize.f & YearsCode & Age1stCode & Age & GenderMale & GenderFemale & GenderOther\\\\\n",
       "\\hline\n",
       "\tJobSat.f &  1     & NA     & NA     &     NA &     NA &    NA  & NA     & NA     & NA    \\\\\n",
       "\tCareerSat.f & NA     &  1     & NA     &     NA &     NA &    NA  & NA     & NA     & NA    \\\\\n",
       "\tOrgSize.f & NA     & NA     &  1     &     NA &     NA &    NA  & NA     & NA     & NA    \\\\\n",
       "\tYearsCode & NA     & NA     & NA     &  1.000 & -0.245 & 0.730  & NA     & NA     & NA    \\\\\n",
       "\tAge1stCode & NA     & NA     & NA     & -0.245 &  1.000 & 0.098  & NA     & NA     & NA    \\\\\n",
       "\tAge & NA     & NA     & NA     &  0.730 &  0.098 & 1.000  & NA     & NA     & NA    \\\\\n",
       "\tGenderMale & NA     & NA     & NA     &     NA &     NA &    NA  &  1     & NA     & NA    \\\\\n",
       "\tGenderFemale & NA     & NA     & NA     &     NA &     NA &    NA  & NA     &  1     & NA    \\\\\n",
       "\tGenderOther & NA     & NA     & NA     &     NA &     NA &    NA  & NA     & NA     &  1    \\\\\n",
       "\\end{tabular}\n"
      ],
      "text/markdown": [
       "\n",
       "| <!--/--> | JobSat.f | CareerSat.f | OrgSize.f | YearsCode | Age1stCode | Age | GenderMale | GenderFemale | GenderOther |\n",
       "|---|---|---|---|---|---|---|---|---|---|\n",
       "| JobSat.f |  1     | NA     | NA     |     NA |     NA |    NA  | NA     | NA     | NA     |\n",
       "| CareerSat.f | NA     |  1     | NA     |     NA |     NA |    NA  | NA     | NA     | NA     |\n",
       "| OrgSize.f | NA     | NA     |  1     |     NA |     NA |    NA  | NA     | NA     | NA     |\n",
       "| YearsCode | NA     | NA     | NA     |  1.000 | -0.245 | 0.730  | NA     | NA     | NA     |\n",
       "| Age1stCode | NA     | NA     | NA     | -0.245 |  1.000 | 0.098  | NA     | NA     | NA     |\n",
       "| Age | NA     | NA     | NA     |  0.730 |  0.098 | 1.000  | NA     | NA     | NA     |\n",
       "| GenderMale | NA     | NA     | NA     |     NA |     NA |    NA  |  1     | NA     | NA     |\n",
       "| GenderFemale | NA     | NA     | NA     |     NA |     NA |    NA  | NA     |  1     | NA     |\n",
       "| GenderOther | NA     | NA     | NA     |     NA |     NA |    NA  | NA     | NA     |  1     |\n",
       "\n"
      ],
      "text/plain": [
       "             JobSat.f CareerSat.f OrgSize.f YearsCode Age1stCode Age  \n",
       "JobSat.f      1       NA          NA            NA        NA        NA\n",
       "CareerSat.f  NA        1          NA            NA        NA        NA\n",
       "OrgSize.f    NA       NA           1            NA        NA        NA\n",
       "YearsCode    NA       NA          NA         1.000    -0.245     0.730\n",
       "Age1stCode   NA       NA          NA        -0.245     1.000     0.098\n",
       "Age          NA       NA          NA         0.730     0.098     1.000\n",
       "GenderMale   NA       NA          NA            NA        NA        NA\n",
       "GenderFemale NA       NA          NA            NA        NA        NA\n",
       "GenderOther  NA       NA          NA            NA        NA        NA\n",
       "             GenderMale GenderFemale GenderOther\n",
       "JobSat.f     NA         NA           NA         \n",
       "CareerSat.f  NA         NA           NA         \n",
       "OrgSize.f    NA         NA           NA         \n",
       "YearsCode    NA         NA           NA         \n",
       "Age1stCode   NA         NA           NA         \n",
       "Age          NA         NA           NA         \n",
       "GenderMale    1         NA           NA         \n",
       "GenderFemale NA          1           NA         \n",
       "GenderOther  NA         NA            1         "
      ]
     },
     "metadata": {},
     "output_type": "display_data"
    }
   ],
   "source": [
    "correlationMatrix <- round(cor(cleanNumericData2019), 3)\n",
    "correlationMatrix"
   ]
  },
  {
   "cell_type": "code",
   "execution_count": 22,
   "metadata": {
    "scrolled": true
   },
   "outputs": [
    {
     "name": "stderr",
     "output_type": "stream",
     "text": [
      "\n",
      "Attaching package: 'reshape2'\n",
      "\n",
      "The following object is masked from 'package:tidyr':\n",
      "\n",
      "    smiths\n",
      "\n"
     ]
    },
    {
     "data": {
      "image/png": "[encoded data removed]",
      "text/plain": [
       "plot without title"
      ]
     },
     "metadata": {},
     "output_type": "display_data"
    }
   ],
   "source": [
    "# need to install a ggplot2 and reshape2 libraries to create the heatmap\n",
    "library(ggplot2)\n",
    "library(reshape2)\n",
    "\n",
    "meltedCorrelationMatrix <- melt(correlationMatrix)\n",
    "\n",
    "ggplot(data = meltedCorrelationMatrix, aes(x=Var1, y=Var2, fill=value)) + \n",
    "  geom_tile()"
   ]
  },
  {
   "cell_type": "code",
   "execution_count": 23,
   "metadata": {},
   "outputs": [
    {
     "name": "stdout",
     "output_type": "stream",
     "text": [
      "package 'Hmisc' successfully unpacked and MD5 sums checked\n",
      "\n",
      "The downloaded binary packages are in\n",
      "\tC:\\Users\\Monica\\AppData\\Local\\Temp\\RtmpgH8EeI\\downloaded_packages\n",
      "package 'corrplot' successfully unpacked and MD5 sums checked\n",
      "\n",
      "The downloaded binary packages are in\n",
      "\tC:\\Users\\Monica\\AppData\\Local\\Temp\\RtmpgH8EeI\\downloaded_packages\n"
     ]
    },
    {
     "name": "stderr",
     "output_type": "stream",
     "text": [
      "corrplot 0.84 loaded\n"
     ]
    }
   ],
   "source": [
    "install.packages(\"Hmisc\")\n",
    "install.packages(\"corrplot\")\n",
    "library(corrplot)"
   ]
  },
  {
   "cell_type": "markdown",
   "metadata": {},
   "source": [
    "### <font color='red'> Have added below!!! This is a mark to grab your attention :D </font>"
   ]
  },
  {
   "cell_type": "code",
   "execution_count": 24,
   "metadata": {},
   "outputs": [
    {
     "name": "stderr",
     "output_type": "stream",
     "text": [
      "Warning message in cor(cleanNumericData2019_allCols):\n",
      "\"the standard deviation is zero\""
     ]
    },
    {
     "data": {
      "text/html": [
       "<table>\n",
       "<thead><tr><th></th><th scope=col>JobSat.f</th><th scope=col>CareerSat.f</th><th scope=col>OrgSize.f</th><th scope=col>YearsCode</th><th scope=col>Age1stCode</th><th scope=col>Age</th><th scope=col>Hobbyist.f</th><th scope=col>Student.f</th><th scope=col>EdLevel.f</th><th scope=col>OpSys.f</th><th scope=col>...</th><th scope=col>Vue</th><th scope=col>Ruby</th><th scope=col>React</th><th scope=col>Laravel</th><th scope=col>Flask</th><th scope=col>Express</th><th scope=col>Drupal</th><th scope=col>Django</th><th scope=col>ASP</th><th scope=col>jQuery</th></tr></thead>\n",
       "<tbody>\n",
       "\t<tr><th scope=row>JobSat.f</th><td> 1.000</td><td> 0.628</td><td>-0.019</td><td>-0.032</td><td> 0.032</td><td>-0.010</td><td> 0.023</td><td>-0.028</td><td> 0.000</td><td>-0.029</td><td>...   </td><td>NA    </td><td>NA    </td><td>NA    </td><td>NA    </td><td>NA    </td><td>NA    </td><td>NA    </td><td>NA    </td><td>NA    </td><td>NA    </td></tr>\n",
       "\t<tr><th scope=row>CareerSat.f</th><td> 0.628</td><td> 1.000</td><td> 0.032</td><td>-0.023</td><td> 0.029</td><td>-0.007</td><td> 0.055</td><td>-0.050</td><td>-0.004</td><td>-0.016</td><td>...   </td><td>NA    </td><td>NA    </td><td>NA    </td><td>NA    </td><td>NA    </td><td>NA    </td><td>NA    </td><td>NA    </td><td>NA    </td><td>NA    </td></tr>\n",
       "\t<tr><th scope=row>OrgSize.f</th><td>-0.019</td><td> 0.032</td><td> 1.000</td><td>-0.006</td><td> 0.004</td><td>-0.006</td><td> 0.000</td><td>-0.040</td><td> 0.127</td><td> 0.078</td><td>...   </td><td>NA    </td><td>NA    </td><td>NA    </td><td>NA    </td><td>NA    </td><td>NA    </td><td>NA    </td><td>NA    </td><td>NA    </td><td>NA    </td></tr>\n",
       "\t<tr><th scope=row>YearsCode</th><td>-0.032</td><td>-0.023</td><td>-0.006</td><td> 1.000</td><td>-0.336</td><td> 0.757</td><td>-0.017</td><td> 0.195</td><td>-0.043</td><td>-0.003</td><td>...   </td><td>NA    </td><td>NA    </td><td>NA    </td><td>NA    </td><td>NA    </td><td>NA    </td><td>NA    </td><td>NA    </td><td>NA    </td><td>NA    </td></tr>\n",
       "\t<tr><th scope=row>Age1stCode</th><td> 0.032</td><td> 0.029</td><td> 0.004</td><td>-0.336</td><td> 1.000</td><td> 0.000</td><td> 0.116</td><td>-0.025</td><td>-0.070</td><td>-0.040</td><td>...   </td><td>NA    </td><td>NA    </td><td>NA    </td><td>NA    </td><td>NA    </td><td>NA    </td><td>NA    </td><td>NA    </td><td>NA    </td><td>NA    </td></tr>\n",
       "\t<tr><th scope=row>Age</th><td>-0.010</td><td>-0.007</td><td>-0.006</td><td> 0.757</td><td> 0.000</td><td> 1.000</td><td> 0.058</td><td> 0.222</td><td>-0.107</td><td>-0.031</td><td>...   </td><td>NA    </td><td>NA    </td><td>NA    </td><td>NA    </td><td>NA    </td><td>NA    </td><td>NA    </td><td>NA    </td><td>NA    </td><td>NA    </td></tr>\n",
       "\t<tr><th scope=row>Hobbyist.f</th><td> 0.023</td><td> 0.055</td><td> 0.000</td><td>-0.017</td><td> 0.116</td><td> 0.058</td><td> 1.000</td><td> 0.034</td><td>-0.057</td><td>-0.072</td><td>...   </td><td>NA    </td><td>NA    </td><td>NA    </td><td>NA    </td><td>NA    </td><td>NA    </td><td>NA    </td><td>NA    </td><td>NA    </td><td>NA    </td></tr>\n",
       "\t<tr><th scope=row>Student.f</th><td>-0.028</td><td>-0.050</td><td>-0.040</td><td> 0.195</td><td>-0.025</td><td> 0.222</td><td> 0.034</td><td> 1.000</td><td>-0.096</td><td>-0.018</td><td>...   </td><td>NA    </td><td>NA    </td><td>NA    </td><td>NA    </td><td>NA    </td><td>NA    </td><td>NA    </td><td>NA    </td><td>NA    </td><td>NA    </td></tr>\n",
       "\t<tr><th scope=row>EdLevel.f</th><td> 0.000</td><td>-0.004</td><td> 0.127</td><td>-0.043</td><td>-0.070</td><td>-0.107</td><td>-0.057</td><td>-0.096</td><td> 1.000</td><td>-0.001</td><td>...   </td><td>NA    </td><td>NA    </td><td>NA    </td><td>NA    </td><td>NA    </td><td>NA    </td><td>NA    </td><td>NA    </td><td>NA    </td><td>NA    </td></tr>\n",
       "\t<tr><th scope=row>OpSys.f</th><td>-0.029</td><td>-0.016</td><td> 0.078</td><td>-0.003</td><td>-0.040</td><td>-0.031</td><td>-0.072</td><td>-0.018</td><td>-0.001</td><td> 1.000</td><td>...   </td><td>NA    </td><td>NA    </td><td>NA    </td><td>NA    </td><td>NA    </td><td>NA    </td><td>NA    </td><td>NA    </td><td>NA    </td><td>NA    </td></tr>\n",
       "\t<tr><th scope=row>Extraversion.f</th><td> 0.044</td><td> 0.054</td><td> 0.033</td><td> 0.043</td><td>-0.015</td><td> 0.045</td><td>-0.002</td><td>-0.005</td><td> 0.038</td><td> 0.006</td><td>...   </td><td>NA    </td><td>NA    </td><td>NA    </td><td>NA    </td><td>NA    </td><td>NA    </td><td>NA    </td><td>NA    </td><td>NA    </td><td>NA    </td></tr>\n",
       "\t<tr><th scope=row>Dependents.f</th><td>-0.016</td><td>-0.024</td><td> 0.014</td><td>-0.247</td><td>-0.038</td><td>-0.322</td><td>-0.028</td><td>-0.053</td><td> 0.070</td><td> 0.030</td><td>...   </td><td>NA    </td><td>NA    </td><td>NA    </td><td>NA    </td><td>NA    </td><td>NA    </td><td>NA    </td><td>NA    </td><td>NA    </td><td>NA    </td></tr>\n",
       "\t<tr><th scope=row>GenderMale</th><td> 0.010</td><td>-0.005</td><td> 0.014</td><td> 0.093</td><td>-0.078</td><td> 0.041</td><td>-0.112</td><td>-0.012</td><td> 0.032</td><td>-0.002</td><td>...   </td><td>NA    </td><td>NA    </td><td>NA    </td><td>NA    </td><td>NA    </td><td>NA    </td><td>NA    </td><td>NA    </td><td>NA    </td><td>NA    </td></tr>\n",
       "\t<tr><th scope=row>GenderFemale</th><td>-0.015</td><td>-0.005</td><td>-0.020</td><td>-0.096</td><td> 0.091</td><td>-0.037</td><td> 0.121</td><td> 0.016</td><td>-0.044</td><td>-0.008</td><td>...   </td><td>NA    </td><td>NA    </td><td>NA    </td><td>NA    </td><td>NA    </td><td>NA    </td><td>NA    </td><td>NA    </td><td>NA    </td><td>NA    </td></tr>\n",
       "\t<tr><th scope=row>GenderOther</th><td> 0.011</td><td> 0.026</td><td> 0.010</td><td>-0.008</td><td>-0.019</td><td>-0.017</td><td>-0.002</td><td>-0.008</td><td> 0.025</td><td> 0.025</td><td>...   </td><td>NA    </td><td>NA    </td><td>NA    </td><td>NA    </td><td>NA    </td><td>NA    </td><td>NA    </td><td>NA    </td><td>NA    </td><td>NA    </td></tr>\n",
       "\t<tr><th scope=row>Angular</th><td> 0.004</td><td>-0.006</td><td>-0.039</td><td>-0.024</td><td> 0.011</td><td>-0.035</td><td>-0.016</td><td>-0.008</td><td>-0.003</td><td>-0.094</td><td>...   </td><td>NA    </td><td>NA    </td><td>NA    </td><td>NA    </td><td>NA    </td><td>NA    </td><td>NA    </td><td>NA    </td><td>NA    </td><td>NA    </td></tr>\n",
       "\t<tr><th scope=row>Vue</th><td>    NA</td><td>    NA</td><td>    NA</td><td>    NA</td><td>    NA</td><td>    NA</td><td>    NA</td><td>    NA</td><td>    NA</td><td>    NA</td><td>...   </td><td> 1    </td><td>NA    </td><td>NA    </td><td>NA    </td><td>NA    </td><td>NA    </td><td>NA    </td><td>NA    </td><td>NA    </td><td>NA    </td></tr>\n",
       "\t<tr><th scope=row>Ruby</th><td>    NA</td><td>    NA</td><td>    NA</td><td>    NA</td><td>    NA</td><td>    NA</td><td>    NA</td><td>    NA</td><td>    NA</td><td>    NA</td><td>...   </td><td>NA    </td><td> 1    </td><td>NA    </td><td>NA    </td><td>NA    </td><td>NA    </td><td>NA    </td><td>NA    </td><td>NA    </td><td>NA    </td></tr>\n",
       "\t<tr><th scope=row>React</th><td>    NA</td><td>    NA</td><td>    NA</td><td>    NA</td><td>    NA</td><td>    NA</td><td>    NA</td><td>    NA</td><td>    NA</td><td>    NA</td><td>...   </td><td>NA    </td><td>NA    </td><td> 1    </td><td>NA    </td><td>NA    </td><td>NA    </td><td>NA    </td><td>NA    </td><td>NA    </td><td>NA    </td></tr>\n",
       "\t<tr><th scope=row>Laravel</th><td>    NA</td><td>    NA</td><td>    NA</td><td>    NA</td><td>    NA</td><td>    NA</td><td>    NA</td><td>    NA</td><td>    NA</td><td>    NA</td><td>...   </td><td>NA    </td><td>NA    </td><td>NA    </td><td> 1    </td><td>NA    </td><td>NA    </td><td>NA    </td><td>NA    </td><td>NA    </td><td>NA    </td></tr>\n",
       "\t<tr><th scope=row>Flask</th><td>    NA</td><td>    NA</td><td>    NA</td><td>    NA</td><td>    NA</td><td>    NA</td><td>    NA</td><td>    NA</td><td>    NA</td><td>    NA</td><td>...   </td><td>NA    </td><td>NA    </td><td>NA    </td><td>NA    </td><td> 1    </td><td>NA    </td><td>NA    </td><td>NA    </td><td>NA    </td><td>NA    </td></tr>\n",
       "\t<tr><th scope=row>Express</th><td>    NA</td><td>    NA</td><td>    NA</td><td>    NA</td><td>    NA</td><td>    NA</td><td>    NA</td><td>    NA</td><td>    NA</td><td>    NA</td><td>...   </td><td>NA    </td><td>NA    </td><td>NA    </td><td>NA    </td><td>NA    </td><td> 1    </td><td>NA    </td><td>NA    </td><td>NA    </td><td>NA    </td></tr>\n",
       "\t<tr><th scope=row>Drupal</th><td>    NA</td><td>    NA</td><td>    NA</td><td>    NA</td><td>    NA</td><td>    NA</td><td>    NA</td><td>    NA</td><td>    NA</td><td>    NA</td><td>...   </td><td>NA    </td><td>NA    </td><td>NA    </td><td>NA    </td><td>NA    </td><td>NA    </td><td> 1    </td><td>NA    </td><td>NA    </td><td>NA    </td></tr>\n",
       "\t<tr><th scope=row>Django</th><td>    NA</td><td>    NA</td><td>    NA</td><td>    NA</td><td>    NA</td><td>    NA</td><td>    NA</td><td>    NA</td><td>    NA</td><td>    NA</td><td>...   </td><td>NA    </td><td>NA    </td><td>NA    </td><td>NA    </td><td>NA    </td><td>NA    </td><td>NA    </td><td> 1    </td><td>NA    </td><td>NA    </td></tr>\n",
       "\t<tr><th scope=row>ASP</th><td>    NA</td><td>    NA</td><td>    NA</td><td>    NA</td><td>    NA</td><td>    NA</td><td>    NA</td><td>    NA</td><td>    NA</td><td>    NA</td><td>...   </td><td>NA    </td><td>NA    </td><td>NA    </td><td>NA    </td><td>NA    </td><td>NA    </td><td>NA    </td><td>NA    </td><td> 1    </td><td>NA    </td></tr>\n",
       "\t<tr><th scope=row>jQuery</th><td>    NA</td><td>    NA</td><td>    NA</td><td>    NA</td><td>    NA</td><td>    NA</td><td>    NA</td><td>    NA</td><td>    NA</td><td>    NA</td><td>...   </td><td>NA    </td><td>NA    </td><td>NA    </td><td>NA    </td><td>NA    </td><td>NA    </td><td>NA    </td><td>NA    </td><td>NA    </td><td> 1    </td></tr>\n",
       "</tbody>\n",
       "</table>\n"
      ],
      "text/latex": [
       "\\begin{tabular}{r|llllllllllllllllllllllllll}\n",
       "  & JobSat.f & CareerSat.f & OrgSize.f & YearsCode & Age1stCode & Age & Hobbyist.f & Student.f & EdLevel.f & OpSys.f & ... & Vue & Ruby & React & Laravel & Flask & Express & Drupal & Django & ASP & jQuery\\\\\n",
       "\\hline\n",
       "\tJobSat.f &  1.000 &  0.628 & -0.019 & -0.032 &  0.032 & -0.010 &  0.023 & -0.028 &  0.000 & -0.029 & ...    & NA     & NA     & NA     & NA     & NA     & NA     & NA     & NA     & NA     & NA    \\\\\n",
       "\tCareerSat.f &  0.628 &  1.000 &  0.032 & -0.023 &  0.029 & -0.007 &  0.055 & -0.050 & -0.004 & -0.016 & ...    & NA     & NA     & NA     & NA     & NA     & NA     & NA     & NA     & NA     & NA    \\\\\n",
       "\tOrgSize.f & -0.019 &  0.032 &  1.000 & -0.006 &  0.004 & -0.006 &  0.000 & -0.040 &  0.127 &  0.078 & ...    & NA     & NA     & NA     & NA     & NA     & NA     & NA     & NA     & NA     & NA    \\\\\n",
       "\tYearsCode & -0.032 & -0.023 & -0.006 &  1.000 & -0.336 &  0.757 & -0.017 &  0.195 & -0.043 & -0.003 & ...    & NA     & NA     & NA     & NA     & NA     & NA     & NA     & NA     & NA     & NA    \\\\\n",
       "\tAge1stCode &  0.032 &  0.029 &  0.004 & -0.336 &  1.000 &  0.000 &  0.116 & -0.025 & -0.070 & -0.040 & ...    & NA     & NA     & NA     & NA     & NA     & NA     & NA     & NA     & NA     & NA    \\\\\n",
       "\tAge & -0.010 & -0.007 & -0.006 &  0.757 &  0.000 &  1.000 &  0.058 &  0.222 & -0.107 & -0.031 & ...    & NA     & NA     & NA     & NA     & NA     & NA     & NA     & NA     & NA     & NA    \\\\\n",
       "\tHobbyist.f &  0.023 &  0.055 &  0.000 & -0.017 &  0.116 &  0.058 &  1.000 &  0.034 & -0.057 & -0.072 & ...    & NA     & NA     & NA     & NA     & NA     & NA     & NA     & NA     & NA     & NA    \\\\\n",
       "\tStudent.f & -0.028 & -0.050 & -0.040 &  0.195 & -0.025 &  0.222 &  0.034 &  1.000 & -0.096 & -0.018 & ...    & NA     & NA     & NA     & NA     & NA     & NA     & NA     & NA     & NA     & NA    \\\\\n",
       "\tEdLevel.f &  0.000 & -0.004 &  0.127 & -0.043 & -0.070 & -0.107 & -0.057 & -0.096 &  1.000 & -0.001 & ...    & NA     & NA     & NA     & NA     & NA     & NA     & NA     & NA     & NA     & NA    \\\\\n",
       "\tOpSys.f & -0.029 & -0.016 &  0.078 & -0.003 & -0.040 & -0.031 & -0.072 & -0.018 & -0.001 &  1.000 & ...    & NA     & NA     & NA     & NA     & NA     & NA     & NA     & NA     & NA     & NA    \\\\\n",
       "\tExtraversion.f &  0.044 &  0.054 &  0.033 &  0.043 & -0.015 &  0.045 & -0.002 & -0.005 &  0.038 &  0.006 & ...    & NA     & NA     & NA     & NA     & NA     & NA     & NA     & NA     & NA     & NA    \\\\\n",
       "\tDependents.f & -0.016 & -0.024 &  0.014 & -0.247 & -0.038 & -0.322 & -0.028 & -0.053 &  0.070 &  0.030 & ...    & NA     & NA     & NA     & NA     & NA     & NA     & NA     & NA     & NA     & NA    \\\\\n",
       "\tGenderMale &  0.010 & -0.005 &  0.014 &  0.093 & -0.078 &  0.041 & -0.112 & -0.012 &  0.032 & -0.002 & ...    & NA     & NA     & NA     & NA     & NA     & NA     & NA     & NA     & NA     & NA    \\\\\n",
       "\tGenderFemale & -0.015 & -0.005 & -0.020 & -0.096 &  0.091 & -0.037 &  0.121 &  0.016 & -0.044 & -0.008 & ...    & NA     & NA     & NA     & NA     & NA     & NA     & NA     & NA     & NA     & NA    \\\\\n",
       "\tGenderOther &  0.011 &  0.026 &  0.010 & -0.008 & -0.019 & -0.017 & -0.002 & -0.008 &  0.025 &  0.025 & ...    & NA     & NA     & NA     & NA     & NA     & NA     & NA     & NA     & NA     & NA    \\\\\n",
       "\tAngular &  0.004 & -0.006 & -0.039 & -0.024 &  0.011 & -0.035 & -0.016 & -0.008 & -0.003 & -0.094 & ...    & NA     & NA     & NA     & NA     & NA     & NA     & NA     & NA     & NA     & NA    \\\\\n",
       "\tVue &     NA &     NA &     NA &     NA &     NA &     NA &     NA &     NA &     NA &     NA & ...    &  1     & NA     & NA     & NA     & NA     & NA     & NA     & NA     & NA     & NA    \\\\\n",
       "\tRuby &     NA &     NA &     NA &     NA &     NA &     NA &     NA &     NA &     NA &     NA & ...    & NA     &  1     & NA     & NA     & NA     & NA     & NA     & NA     & NA     & NA    \\\\\n",
       "\tReact &     NA &     NA &     NA &     NA &     NA &     NA &     NA &     NA &     NA &     NA & ...    & NA     & NA     &  1     & NA     & NA     & NA     & NA     & NA     & NA     & NA    \\\\\n",
       "\tLaravel &     NA &     NA &     NA &     NA &     NA &     NA &     NA &     NA &     NA &     NA & ...    & NA     & NA     & NA     &  1     & NA     & NA     & NA     & NA     & NA     & NA    \\\\\n",
       "\tFlask &     NA &     NA &     NA &     NA &     NA &     NA &     NA &     NA &     NA &     NA & ...    & NA     & NA     & NA     & NA     &  1     & NA     & NA     & NA     & NA     & NA    \\\\\n",
       "\tExpress &     NA &     NA &     NA &     NA &     NA &     NA &     NA &     NA &     NA &     NA & ...    & NA     & NA     & NA     & NA     & NA     &  1     & NA     & NA     & NA     & NA    \\\\\n",
       "\tDrupal &     NA &     NA &     NA &     NA &     NA &     NA &     NA &     NA &     NA &     NA & ...    & NA     & NA     & NA     & NA     & NA     & NA     &  1     & NA     & NA     & NA    \\\\\n",
       "\tDjango &     NA &     NA &     NA &     NA &     NA &     NA &     NA &     NA &     NA &     NA & ...    & NA     & NA     & NA     & NA     & NA     & NA     & NA     &  1     & NA     & NA    \\\\\n",
       "\tASP &     NA &     NA &     NA &     NA &     NA &     NA &     NA &     NA &     NA &     NA & ...    & NA     & NA     & NA     & NA     & NA     & NA     & NA     & NA     &  1     & NA    \\\\\n",
       "\tjQuery &     NA &     NA &     NA &     NA &     NA &     NA &     NA &     NA &     NA &     NA & ...    & NA     & NA     & NA     & NA     & NA     & NA     & NA     & NA     & NA     &  1    \\\\\n",
       "\\end{tabular}\n"
      ],
      "text/markdown": [
       "\n",
       "| <!--/--> | JobSat.f | CareerSat.f | OrgSize.f | YearsCode | Age1stCode | Age | Hobbyist.f | Student.f | EdLevel.f | OpSys.f | ... | Vue | Ruby | React | Laravel | Flask | Express | Drupal | Django | ASP | jQuery |\n",
       "|---|---|---|---|---|---|---|---|---|---|---|---|---|---|---|---|---|---|---|---|---|---|\n",
       "| JobSat.f |  1.000 |  0.628 | -0.019 | -0.032 |  0.032 | -0.010 |  0.023 | -0.028 |  0.000 | -0.029 | ...    | NA     | NA     | NA     | NA     | NA     | NA     | NA     | NA     | NA     | NA     |\n",
       "| CareerSat.f |  0.628 |  1.000 |  0.032 | -0.023 |  0.029 | -0.007 |  0.055 | -0.050 | -0.004 | -0.016 | ...    | NA     | NA     | NA     | NA     | NA     | NA     | NA     | NA     | NA     | NA     |\n",
       "| OrgSize.f | -0.019 |  0.032 |  1.000 | -0.006 |  0.004 | -0.006 |  0.000 | -0.040 |  0.127 |  0.078 | ...    | NA     | NA     | NA     | NA     | NA     | NA     | NA     | NA     | NA     | NA     |\n",
       "| YearsCode | -0.032 | -0.023 | -0.006 |  1.000 | -0.336 |  0.757 | -0.017 |  0.195 | -0.043 | -0.003 | ...    | NA     | NA     | NA     | NA     | NA     | NA     | NA     | NA     | NA     | NA     |\n",
       "| Age1stCode |  0.032 |  0.029 |  0.004 | -0.336 |  1.000 |  0.000 |  0.116 | -0.025 | -0.070 | -0.040 | ...    | NA     | NA     | NA     | NA     | NA     | NA     | NA     | NA     | NA     | NA     |\n",
       "| Age | -0.010 | -0.007 | -0.006 |  0.757 |  0.000 |  1.000 |  0.058 |  0.222 | -0.107 | -0.031 | ...    | NA     | NA     | NA     | NA     | NA     | NA     | NA     | NA     | NA     | NA     |\n",
       "| Hobbyist.f |  0.023 |  0.055 |  0.000 | -0.017 |  0.116 |  0.058 |  1.000 |  0.034 | -0.057 | -0.072 | ...    | NA     | NA     | NA     | NA     | NA     | NA     | NA     | NA     | NA     | NA     |\n",
       "| Student.f | -0.028 | -0.050 | -0.040 |  0.195 | -0.025 |  0.222 |  0.034 |  1.000 | -0.096 | -0.018 | ...    | NA     | NA     | NA     | NA     | NA     | NA     | NA     | NA     | NA     | NA     |\n",
       "| EdLevel.f |  0.000 | -0.004 |  0.127 | -0.043 | -0.070 | -0.107 | -0.057 | -0.096 |  1.000 | -0.001 | ...    | NA     | NA     | NA     | NA     | NA     | NA     | NA     | NA     | NA     | NA     |\n",
       "| OpSys.f | -0.029 | -0.016 |  0.078 | -0.003 | -0.040 | -0.031 | -0.072 | -0.018 | -0.001 |  1.000 | ...    | NA     | NA     | NA     | NA     | NA     | NA     | NA     | NA     | NA     | NA     |\n",
       "| Extraversion.f |  0.044 |  0.054 |  0.033 |  0.043 | -0.015 |  0.045 | -0.002 | -0.005 |  0.038 |  0.006 | ...    | NA     | NA     | NA     | NA     | NA     | NA     | NA     | NA     | NA     | NA     |\n",
       "| Dependents.f | -0.016 | -0.024 |  0.014 | -0.247 | -0.038 | -0.322 | -0.028 | -0.053 |  0.070 |  0.030 | ...    | NA     | NA     | NA     | NA     | NA     | NA     | NA     | NA     | NA     | NA     |\n",
       "| GenderMale |  0.010 | -0.005 |  0.014 |  0.093 | -0.078 |  0.041 | -0.112 | -0.012 |  0.032 | -0.002 | ...    | NA     | NA     | NA     | NA     | NA     | NA     | NA     | NA     | NA     | NA     |\n",
       "| GenderFemale | -0.015 | -0.005 | -0.020 | -0.096 |  0.091 | -0.037 |  0.121 |  0.016 | -0.044 | -0.008 | ...    | NA     | NA     | NA     | NA     | NA     | NA     | NA     | NA     | NA     | NA     |\n",
       "| GenderOther |  0.011 |  0.026 |  0.010 | -0.008 | -0.019 | -0.017 | -0.002 | -0.008 |  0.025 |  0.025 | ...    | NA     | NA     | NA     | NA     | NA     | NA     | NA     | NA     | NA     | NA     |\n",
       "| Angular |  0.004 | -0.006 | -0.039 | -0.024 |  0.011 | -0.035 | -0.016 | -0.008 | -0.003 | -0.094 | ...    | NA     | NA     | NA     | NA     | NA     | NA     | NA     | NA     | NA     | NA     |\n",
       "| Vue |     NA |     NA |     NA |     NA |     NA |     NA |     NA |     NA |     NA |     NA | ...    |  1     | NA     | NA     | NA     | NA     | NA     | NA     | NA     | NA     | NA     |\n",
       "| Ruby |     NA |     NA |     NA |     NA |     NA |     NA |     NA |     NA |     NA |     NA | ...    | NA     |  1     | NA     | NA     | NA     | NA     | NA     | NA     | NA     | NA     |\n",
       "| React |     NA |     NA |     NA |     NA |     NA |     NA |     NA |     NA |     NA |     NA | ...    | NA     | NA     |  1     | NA     | NA     | NA     | NA     | NA     | NA     | NA     |\n",
       "| Laravel |     NA |     NA |     NA |     NA |     NA |     NA |     NA |     NA |     NA |     NA | ...    | NA     | NA     | NA     |  1     | NA     | NA     | NA     | NA     | NA     | NA     |\n",
       "| Flask |     NA |     NA |     NA |     NA |     NA |     NA |     NA |     NA |     NA |     NA | ...    | NA     | NA     | NA     | NA     |  1     | NA     | NA     | NA     | NA     | NA     |\n",
       "| Express |     NA |     NA |     NA |     NA |     NA |     NA |     NA |     NA |     NA |     NA | ...    | NA     | NA     | NA     | NA     | NA     |  1     | NA     | NA     | NA     | NA     |\n",
       "| Drupal |     NA |     NA |     NA |     NA |     NA |     NA |     NA |     NA |     NA |     NA | ...    | NA     | NA     | NA     | NA     | NA     | NA     |  1     | NA     | NA     | NA     |\n",
       "| Django |     NA |     NA |     NA |     NA |     NA |     NA |     NA |     NA |     NA |     NA | ...    | NA     | NA     | NA     | NA     | NA     | NA     | NA     |  1     | NA     | NA     |\n",
       "| ASP |     NA |     NA |     NA |     NA |     NA |     NA |     NA |     NA |     NA |     NA | ...    | NA     | NA     | NA     | NA     | NA     | NA     | NA     | NA     |  1     | NA     |\n",
       "| jQuery |     NA |     NA |     NA |     NA |     NA |     NA |     NA |     NA |     NA |     NA | ...    | NA     | NA     | NA     | NA     | NA     | NA     | NA     | NA     | NA     |  1     |\n",
       "\n"
      ],
      "text/plain": [
       "               JobSat.f CareerSat.f OrgSize.f YearsCode Age1stCode Age   \n",
       "JobSat.f        1.000    0.628      -0.019    -0.032     0.032     -0.010\n",
       "CareerSat.f     0.628    1.000       0.032    -0.023     0.029     -0.007\n",
       "OrgSize.f      -0.019    0.032       1.000    -0.006     0.004     -0.006\n",
       "YearsCode      -0.032   -0.023      -0.006     1.000    -0.336      0.757\n",
       "Age1stCode      0.032    0.029       0.004    -0.336     1.000      0.000\n",
       "Age            -0.010   -0.007      -0.006     0.757     0.000      1.000\n",
       "Hobbyist.f      0.023    0.055       0.000    -0.017     0.116      0.058\n",
       "Student.f      -0.028   -0.050      -0.040     0.195    -0.025      0.222\n",
       "EdLevel.f       0.000   -0.004       0.127    -0.043    -0.070     -0.107\n",
       "OpSys.f        -0.029   -0.016       0.078    -0.003    -0.040     -0.031\n",
       "Extraversion.f  0.044    0.054       0.033     0.043    -0.015      0.045\n",
       "Dependents.f   -0.016   -0.024       0.014    -0.247    -0.038     -0.322\n",
       "GenderMale      0.010   -0.005       0.014     0.093    -0.078      0.041\n",
       "GenderFemale   -0.015   -0.005      -0.020    -0.096     0.091     -0.037\n",
       "GenderOther     0.011    0.026       0.010    -0.008    -0.019     -0.017\n",
       "Angular         0.004   -0.006      -0.039    -0.024     0.011     -0.035\n",
       "Vue                NA       NA          NA        NA        NA         NA\n",
       "Ruby               NA       NA          NA        NA        NA         NA\n",
       "React              NA       NA          NA        NA        NA         NA\n",
       "Laravel            NA       NA          NA        NA        NA         NA\n",
       "Flask              NA       NA          NA        NA        NA         NA\n",
       "Express            NA       NA          NA        NA        NA         NA\n",
       "Drupal             NA       NA          NA        NA        NA         NA\n",
       "Django             NA       NA          NA        NA        NA         NA\n",
       "ASP                NA       NA          NA        NA        NA         NA\n",
       "jQuery             NA       NA          NA        NA        NA         NA\n",
       "               Hobbyist.f Student.f EdLevel.f OpSys.f ... Vue Ruby React\n",
       "JobSat.f        0.023     -0.028     0.000    -0.029  ... NA  NA   NA   \n",
       "CareerSat.f     0.055     -0.050    -0.004    -0.016  ... NA  NA   NA   \n",
       "OrgSize.f       0.000     -0.040     0.127     0.078  ... NA  NA   NA   \n",
       "YearsCode      -0.017      0.195    -0.043    -0.003  ... NA  NA   NA   \n",
       "Age1stCode      0.116     -0.025    -0.070    -0.040  ... NA  NA   NA   \n",
       "Age             0.058      0.222    -0.107    -0.031  ... NA  NA   NA   \n",
       "Hobbyist.f      1.000      0.034    -0.057    -0.072  ... NA  NA   NA   \n",
       "Student.f       0.034      1.000    -0.096    -0.018  ... NA  NA   NA   \n",
       "EdLevel.f      -0.057     -0.096     1.000    -0.001  ... NA  NA   NA   \n",
       "OpSys.f        -0.072     -0.018    -0.001     1.000  ... NA  NA   NA   \n",
       "Extraversion.f -0.002     -0.005     0.038     0.006  ... NA  NA   NA   \n",
       "Dependents.f   -0.028     -0.053     0.070     0.030  ... NA  NA   NA   \n",
       "GenderMale     -0.112     -0.012     0.032    -0.002  ... NA  NA   NA   \n",
       "GenderFemale    0.121      0.016    -0.044    -0.008  ... NA  NA   NA   \n",
       "GenderOther    -0.002     -0.008     0.025     0.025  ... NA  NA   NA   \n",
       "Angular        -0.016     -0.008    -0.003    -0.094  ... NA  NA   NA   \n",
       "Vue                NA         NA        NA        NA  ...  1  NA   NA   \n",
       "Ruby               NA         NA        NA        NA  ... NA   1   NA   \n",
       "React              NA         NA        NA        NA  ... NA  NA    1   \n",
       "Laravel            NA         NA        NA        NA  ... NA  NA   NA   \n",
       "Flask              NA         NA        NA        NA  ... NA  NA   NA   \n",
       "Express            NA         NA        NA        NA  ... NA  NA   NA   \n",
       "Drupal             NA         NA        NA        NA  ... NA  NA   NA   \n",
       "Django             NA         NA        NA        NA  ... NA  NA   NA   \n",
       "ASP                NA         NA        NA        NA  ... NA  NA   NA   \n",
       "jQuery             NA         NA        NA        NA  ... NA  NA   NA   \n",
       "               Laravel Flask Express Drupal Django ASP jQuery\n",
       "JobSat.f       NA      NA    NA      NA     NA     NA  NA    \n",
       "CareerSat.f    NA      NA    NA      NA     NA     NA  NA    \n",
       "OrgSize.f      NA      NA    NA      NA     NA     NA  NA    \n",
       "YearsCode      NA      NA    NA      NA     NA     NA  NA    \n",
       "Age1stCode     NA      NA    NA      NA     NA     NA  NA    \n",
       "Age            NA      NA    NA      NA     NA     NA  NA    \n",
       "Hobbyist.f     NA      NA    NA      NA     NA     NA  NA    \n",
       "Student.f      NA      NA    NA      NA     NA     NA  NA    \n",
       "EdLevel.f      NA      NA    NA      NA     NA     NA  NA    \n",
       "OpSys.f        NA      NA    NA      NA     NA     NA  NA    \n",
       "Extraversion.f NA      NA    NA      NA     NA     NA  NA    \n",
       "Dependents.f   NA      NA    NA      NA     NA     NA  NA    \n",
       "GenderMale     NA      NA    NA      NA     NA     NA  NA    \n",
       "GenderFemale   NA      NA    NA      NA     NA     NA  NA    \n",
       "GenderOther    NA      NA    NA      NA     NA     NA  NA    \n",
       "Angular        NA      NA    NA      NA     NA     NA  NA    \n",
       "Vue            NA      NA    NA      NA     NA     NA  NA    \n",
       "Ruby           NA      NA    NA      NA     NA     NA  NA    \n",
       "React          NA      NA    NA      NA     NA     NA  NA    \n",
       "Laravel         1      NA    NA      NA     NA     NA  NA    \n",
       "Flask          NA       1    NA      NA     NA     NA  NA    \n",
       "Express        NA      NA     1      NA     NA     NA  NA    \n",
       "Drupal         NA      NA    NA       1     NA     NA  NA    \n",
       "Django         NA      NA    NA      NA      1     NA  NA    \n",
       "ASP            NA      NA    NA      NA     NA      1  NA    \n",
       "jQuery         NA      NA    NA      NA     NA     NA   1    "
      ]
     },
     "metadata": {},
     "output_type": "display_data"
    }
   ],
   "source": [
    "correlationMatrix2 <- round(cor(cleanNumericData2019_allCols), 3)\n",
    "correlationMatrix2\n"
   ]
  },
  {
   "cell_type": "markdown",
   "metadata": {},
   "source": [
    "### <font color='red'>Based on the above corelation mattrix, we are making use of the corrplot function below to computer a graphical representation of the correlation coeficient while displaying the p-values on some of the data that shows a certain significance</font>"
   ]
  },
  {
   "cell_type": "code",
   "execution_count": 25,
   "metadata": {},
   "outputs": [
    {
     "data": {
      "image/png": "[encoded data removed]",
      "text/plain": [
       "Plot with title \"\""
      ]
     },
     "metadata": {},
     "output_type": "display_data"
    }
   ],
   "source": [
    "corrplot(correlationMatrix2, p.mat = correlationMatrix2, insig = \"p-value\",diag = FALSE, type=\"lower\")"
   ]
  },
  {
   "cell_type": "markdown",
   "metadata": {},
   "source": [
    "From the cells above, it is clear that CareerDat & JobSat"
   ]
  },
  {
   "cell_type": "code",
   "execution_count": 26,
   "metadata": {},
   "outputs": [
    {
     "data": {
      "text/html": [
       "0.635813578252434"
      ],
      "text/latex": [
       "0.635813578252434"
      ],
      "text/markdown": [
       "0.635813578252434"
      ],
      "text/plain": [
       "[1] 0.6358136"
      ]
     },
     "metadata": {},
     "output_type": "display_data"
    },
    {
     "data": {
      "text/plain": [
       "\n",
       "Call:\n",
       "lm(formula = CareerSat.f ~ JobSat.f, data = cleanNumericData2019)\n",
       "\n",
       "Residuals:\n",
       "    Min      1Q  Median      3Q     Max \n",
       "-2.6383 -0.4521 -0.2659  0.5479  3.7341 \n",
       "\n",
       "Coefficients:\n",
       "            Estimate Std. Error t value Pr(>|t|)    \n",
       "(Intercept) 0.672751   0.007109   94.64   <2e-16 ***\n",
       "JobSat.f    0.593107   0.002702  219.48   <2e-16 ***\n",
       "---\n",
       "Signif. codes:  0 '***' 0.001 '**' 0.01 '*' 0.05 '.' 0.1 ' ' 1\n",
       "\n",
       "Residual standard error: 0.8998 on 70986 degrees of freedom\n",
       "  (17895 observations deleted due to missingness)\n",
       "Multiple R-squared:  0.4043,\tAdjusted R-squared:  0.4043 \n",
       "F-statistic: 4.817e+04 on 1 and 70986 DF,  p-value: < 2.2e-16\n"
      ]
     },
     "metadata": {},
     "output_type": "display_data"
    }
   ],
   "source": [
    "#explaining the 0.64 correlation from above matrice between Career and Job Satisfaction \n",
    "\n",
    "cor(cleanNumericData2019$JobSat.f, cleanNumericData2019$CareerSat.f,  method = \"pearson\", use = \"complete.obs\")\n",
    "model <- lm(formula = CareerSat.f ~ JobSat.f, data = cleanNumericData2019)\n",
    "summary(model)"
   ]
  },
  {
   "cell_type": "code",
   "execution_count": 27,
   "metadata": {},
   "outputs": [],
   "source": [
    "set.seed(1234)\n",
    "trainRows <- sample(1:nrow(cleanNumericData2019ForTree), 46228)\n",
    "testRows <- setdiff(1:nrow(cleanNumericData2019ForTree), trainRows)\n",
    "trainingData2019 <- cleanNumericData2019ForTree[trainRows, ]\n",
    "testData2019 <- cleanNumericData2019ForTree[testRows, ]"
   ]
  },
  {
   "cell_type": "code",
   "execution_count": 28,
   "metadata": {},
   "outputs": [
    {
     "name": "stdout",
     "output_type": "stream",
     "text": [
      "Call:\n",
      "rpart(formula = CareerSat ~ ., data = trainingData2019)\n",
      "  n= 46228 \n",
      "\n",
      "          CP nsplit rel error    xerror        xstd\n",
      "1 0.23035708      0 1.0000000 1.0000000 0.003881583\n",
      "2 0.01308305      1 0.7696429 0.7696429 0.003928250\n",
      "3 0.01000000      4 0.7283203 0.7283203 0.003905595\n",
      "\n",
      "Variable importance\n",
      "    JobSat Age1stCode \n",
      "        98          1 \n",
      "\n",
      "Node number 1: 46228 observations,    complexity param=0.2303571\n",
      "  predicted class=1  expected loss=0.589448  P(node) =1\n",
      "    class counts: 18979 16036  4249  4655  2309\n",
      "   probabilities: 0.411 0.347 0.092 0.101 0.050 \n",
      "  left son=2 (14544 obs) right son=3 (31684 obs)\n",
      "  Primary splits:\n",
      "      JobSat     splits as  LRRRRR,     improve=4245.72500, (0 missing)\n",
      "      Age1stCode < 24.5   to the right, improve=  21.40650, (0 missing)\n",
      "      Age        < 56.5   to the right, improve=  19.23907, (0 missing)\n",
      "      YearsCode  < 32.5   to the right, improve=  17.35307, (0 missing)\n",
      "      OrgSize    splits as  LLLLLLRRRR, improve=  12.95701, (0 missing)\n",
      "  Surrogate splits:\n",
      "      Age       < 64.5   to the right, agree=0.686, adj=0.001, (0 split)\n",
      "      YearsCode < 42.5   to the right, agree=0.686, adj=0.001, (0 split)\n",
      "\n",
      "Node number 2: 14544 observations\n",
      "  predicted class=1  expected loss=0.2003575  P(node) =0.3146145\n",
      "    class counts: 11630  2410   185   157   162\n",
      "   probabilities: 0.800 0.166 0.013 0.011 0.011 \n",
      "\n",
      "Node number 3: 31684 observations,    complexity param=0.01308305\n",
      "  predicted class=2  expected loss=0.5699407  P(node) =0.6853855\n",
      "    class counts:  7349 13626  4064  4498  2147\n",
      "   probabilities: 0.232 0.430 0.128 0.142 0.068 \n",
      "  left son=6 (15839 obs) right son=7 (15845 obs)\n",
      "  Primary splits:\n",
      "      JobSat     splits as  LLRRRR,     improve=1452.395000, (0 missing)\n",
      "      OrgSize    splits as  LLLLLLLRRR, improve=  22.092810, (0 missing)\n",
      "      Age1stCode < 16.5   to the left,  improve=  10.862710, (0 missing)\n",
      "      Age        < 56.5   to the right, improve=   7.103763, (0 missing)\n",
      "      YearsCode  < 5.5    to the right, improve=   6.942508, (0 missing)\n",
      "  Surrogate splits:\n",
      "      Age1stCode < 15.205 to the left,  agree=0.516, adj=0.032, (0 split)\n",
      "      YearsCode  < 10.5   to the right, agree=0.509, adj=0.018, (0 split)\n",
      "      OrgSize    splits as  LLLLLLRRRR, agree=0.509, adj=0.018, (0 split)\n",
      "      Age        < 29.25  to the left,  agree=0.507, adj=0.013, (0 split)\n",
      "      Angular    < 0.5    to the right, agree=0.502, adj=0.003, (0 split)\n",
      "\n",
      "Node number 6: 15839 observations\n",
      "  predicted class=2  expected loss=0.4457352  P(node) =0.3426278\n",
      "    class counts:  5356  8779   931   559   214\n",
      "   probabilities: 0.338 0.554 0.059 0.035 0.014 \n",
      "\n",
      "Node number 7: 15845 observations,    complexity param=0.01308305\n",
      "  predicted class=2  expected loss=0.6940991  P(node) =0.3427576\n",
      "    class counts:  1993  4847  3133  3939  1933\n",
      "   probabilities: 0.126 0.306 0.198 0.249 0.122 \n",
      "  left son=14 (5683 obs) right son=15 (10162 obs)\n",
      "  Primary splits:\n",
      "      JobSat     splits as  LLLRRR,     improve=433.815700, (0 missing)\n",
      "      OrgSize    splits as  LLLLLLRRRR, improve= 18.939430, (0 missing)\n",
      "      Age1stCode < 16.5   to the left,  improve= 10.087820, (0 missing)\n",
      "      Age        < 51.5   to the right, improve=  9.420888, (0 missing)\n",
      "      YearsCode  < 5.5    to the right, improve=  7.673669, (0 missing)\n",
      "  Surrogate splits:\n",
      "      Age < 2      to the left,  agree=0.641, adj=0, (0 split)\n",
      "\n",
      "Node number 14: 5683 observations\n",
      "  predicted class=2  expected loss=0.6021468  P(node) =0.1229342\n",
      "    class counts:   809  2261  1789   640   184\n",
      "   probabilities: 0.142 0.398 0.315 0.113 0.032 \n",
      "\n",
      "Node number 15: 10162 observations,    complexity param=0.01308305\n",
      "  predicted class=4  expected loss=0.6753592  P(node) =0.2198235\n",
      "    class counts:  1184  2586  1344  3299  1749\n",
      "   probabilities: 0.117 0.254 0.132 0.325 0.172 \n",
      "  left son=30 (7024 obs) right son=31 (3138 obs)\n",
      "  Primary splits:\n",
      "      JobSat     splits as  LLLLRR,     improve=293.921900, (0 missing)\n",
      "      OrgSize    splits as  LLLLLLRRRR, improve= 11.445240, (0 missing)\n",
      "      Age        < 51.5   to the right, improve=  8.864673, (0 missing)\n",
      "      Age1stCode < 13.5   to the left,  improve=  6.916213, (0 missing)\n",
      "      YearsCode  < 1.5    to the right, improve=  6.570209, (0 missing)\n",
      "  Surrogate splits:\n",
      "      Age1stCode < 40.5   to the left,  agree=0.692, adj=0.002, (0 split)\n",
      "      Age        < 65.5   to the left,  agree=0.691, adj=0.001, (0 split)\n",
      "      YearsCode  < 0.75   to the right, agree=0.691, adj=0.000, (0 split)\n",
      "\n",
      "Node number 30: 7024 observations\n",
      "  predicted class=4  expected loss=0.6470672  P(node) =0.1519425\n",
      "    class counts:   856  2094  1079  2479   516\n",
      "   probabilities: 0.122 0.298 0.154 0.353 0.073 \n",
      "\n",
      "Node number 31: 3138 observations\n",
      "  predicted class=5  expected loss=0.6070746  P(node) =0.06788094\n",
      "    class counts:   328   492   265   820  1233\n",
      "   probabilities: 0.105 0.157 0.084 0.261 0.393 \n",
      "\n"
     ]
    }
   ],
   "source": [
    "library(rpart)\n",
    "\n",
    "dataTree <- rpart(CareerSat ~ ., trainingData2019) \n",
    "summary(dataTree)"
   ]
  },
  {
   "cell_type": "code",
   "execution_count": 29,
   "metadata": {},
   "outputs": [
    {
     "name": "stdout",
     "output_type": "stream",
     "text": [
      "Call:\n",
      "rpart(formula = CareerSat ~ ., data = trainingData2019)\n",
      "  n= 46228 \n",
      "\n",
      "          CP nsplit rel error    xerror        xstd\n",
      "1 0.23035708      0 1.0000000 1.0000000 0.003881583\n",
      "2 0.01308305      1 0.7696429 0.7696429 0.003928250\n",
      "3 0.01000000      4 0.7283203 0.7283203 0.003905595\n",
      "\n",
      "Variable importance\n",
      "    JobSat Age1stCode \n",
      "        98          1 \n",
      "\n",
      "Node number 1: 46228 observations,    complexity param=0.2303571\n",
      "  predicted class=1  expected loss=0.589448  P(node) =1\n",
      "    class counts: 18979 16036  4249  4655  2309\n",
      "   probabilities: 0.411 0.347 0.092 0.101 0.050 \n",
      "  left son=2 (14544 obs) right son=3 (31684 obs)\n",
      "  Primary splits:\n",
      "      JobSat     splits as  LRRRRR,     improve=4245.72500, (0 missing)\n",
      "      Age1stCode < 24.5   to the right, improve=  21.40650, (0 missing)\n",
      "      Age        < 56.5   to the right, improve=  19.23907, (0 missing)\n",
      "      YearsCode  < 32.5   to the right, improve=  17.35307, (0 missing)\n",
      "      OrgSize    splits as  LLLLLLRRRR, improve=  12.95701, (0 missing)\n",
      "  Surrogate splits:\n",
      "      Age       < 64.5   to the right, agree=0.686, adj=0.001, (0 split)\n",
      "      YearsCode < 42.5   to the right, agree=0.686, adj=0.001, (0 split)\n",
      "\n",
      "Node number 2: 14544 observations\n",
      "  predicted class=1  expected loss=0.2003575  P(node) =0.3146145\n",
      "    class counts: 11630  2410   185   157   162\n",
      "   probabilities: 0.800 0.166 0.013 0.011 0.011 \n",
      "\n",
      "Node number 3: 31684 observations,    complexity param=0.01308305\n",
      "  predicted class=2  expected loss=0.5699407  P(node) =0.6853855\n",
      "    class counts:  7349 13626  4064  4498  2147\n",
      "   probabilities: 0.232 0.430 0.128 0.142 0.068 \n",
      "  left son=6 (15839 obs) right son=7 (15845 obs)\n",
      "  Primary splits:\n",
      "      JobSat     splits as  LLRRRR,     improve=1452.395000, (0 missing)\n",
      "      OrgSize    splits as  LLLLLLLRRR, improve=  22.092810, (0 missing)\n",
      "      Age1stCode < 16.5   to the left,  improve=  10.862710, (0 missing)\n",
      "      Age        < 56.5   to the right, improve=   7.103763, (0 missing)\n",
      "      YearsCode  < 5.5    to the right, improve=   6.942508, (0 missing)\n",
      "  Surrogate splits:\n",
      "      Age1stCode < 15.205 to the left,  agree=0.516, adj=0.032, (0 split)\n",
      "      YearsCode  < 10.5   to the right, agree=0.509, adj=0.018, (0 split)\n",
      "      OrgSize    splits as  LLLLLLRRRR, agree=0.509, adj=0.018, (0 split)\n",
      "      Age        < 29.25  to the left,  agree=0.507, adj=0.013, (0 split)\n",
      "      Angular    < 0.5    to the right, agree=0.502, adj=0.003, (0 split)\n",
      "\n",
      "Node number 6: 15839 observations\n",
      "  predicted class=2  expected loss=0.4457352  P(node) =0.3426278\n",
      "    class counts:  5356  8779   931   559   214\n",
      "   probabilities: 0.338 0.554 0.059 0.035 0.014 \n",
      "\n",
      "Node number 7: 15845 observations,    complexity param=0.01308305\n",
      "  predicted class=2  expected loss=0.6940991  P(node) =0.3427576\n",
      "    class counts:  1993  4847  3133  3939  1933\n",
      "   probabilities: 0.126 0.306 0.198 0.249 0.122 \n",
      "  left son=14 (5683 obs) right son=15 (10162 obs)\n",
      "  Primary splits:\n",
      "      JobSat     splits as  LLLRRR,     improve=433.815700, (0 missing)\n",
      "      OrgSize    splits as  LLLLLLRRRR, improve= 18.939430, (0 missing)\n",
      "      Age1stCode < 16.5   to the left,  improve= 10.087820, (0 missing)\n",
      "      Age        < 51.5   to the right, improve=  9.420888, (0 missing)\n",
      "      YearsCode  < 5.5    to the right, improve=  7.673669, (0 missing)\n",
      "  Surrogate splits:\n",
      "      Age < 2      to the left,  agree=0.641, adj=0, (0 split)\n",
      "\n",
      "Node number 14: 5683 observations\n",
      "  predicted class=2  expected loss=0.6021468  P(node) =0.1229342\n",
      "    class counts:   809  2261  1789   640   184\n",
      "   probabilities: 0.142 0.398 0.315 0.113 0.032 \n",
      "\n",
      "Node number 15: 10162 observations,    complexity param=0.01308305\n",
      "  predicted class=4  expected loss=0.6753592  P(node) =0.2198235\n",
      "    class counts:  1184  2586  1344  3299  1749\n",
      "   probabilities: 0.117 0.254 0.132 0.325 0.172 \n",
      "  left son=30 (7024 obs) right son=31 (3138 obs)\n",
      "  Primary splits:\n",
      "      JobSat     splits as  LLLLRR,     improve=293.921900, (0 missing)\n",
      "      OrgSize    splits as  LLLLLLRRRR, improve= 11.445240, (0 missing)\n",
      "      Age        < 51.5   to the right, improve=  8.864673, (0 missing)\n",
      "      Age1stCode < 13.5   to the left,  improve=  6.916213, (0 missing)\n",
      "      YearsCode  < 1.5    to the right, improve=  6.570209, (0 missing)\n",
      "  Surrogate splits:\n",
      "      Age1stCode < 40.5   to the left,  agree=0.692, adj=0.002, (0 split)\n",
      "      Age        < 65.5   to the left,  agree=0.691, adj=0.001, (0 split)\n",
      "      YearsCode  < 0.75   to the right, agree=0.691, adj=0.000, (0 split)\n",
      "\n",
      "Node number 30: 7024 observations\n",
      "  predicted class=4  expected loss=0.6470672  P(node) =0.1519425\n",
      "    class counts:   856  2094  1079  2479   516\n",
      "   probabilities: 0.122 0.298 0.154 0.353 0.073 \n",
      "\n",
      "Node number 31: 3138 observations\n",
      "  predicted class=5  expected loss=0.6070746  P(node) =0.06788094\n",
      "    class counts:   328   492   265   820  1233\n",
      "   probabilities: 0.105 0.157 0.084 0.261 0.393 \n",
      "\n"
     ]
    }
   ],
   "source": [
    "dataTree <- rpart(CareerSat ~ ., trainingData2019) \n",
    "summary(dataTree)"
   ]
  },
  {
   "cell_type": "code",
   "execution_count": 30,
   "metadata": {
    "scrolled": true
   },
   "outputs": [
    {
     "name": "stdout",
     "output_type": "stream",
     "text": [
      "package 'rpart.plot' successfully unpacked and MD5 sums checked\n",
      "\n",
      "The downloaded binary packages are in\n",
      "\tC:\\Users\\Monica\\AppData\\Local\\Temp\\RtmpgH8EeI\\downloaded_packages\n"
     ]
    },
    {
     "data": {
      "image/png": "[encoded data removed]",
      "text/plain": [
       "plot without title"
      ]
     },
     "metadata": {},
     "output_type": "display_data"
    }
   ],
   "source": [
    "install.packages(\"rpart.plot\")\n",
    "library(rpart.plot)\n",
    "\n",
    "rpart.plot(dataTree)"
   ]
  },
  {
   "cell_type": "code",
   "execution_count": 31,
   "metadata": {},
   "outputs": [
    {
     "data": {
      "text/plain": [
       "                \n",
       "predictCareerSat   1   2   3   4   5   0\n",
       "               1 919 188  20  12  18   0\n",
       "               2 522 876 214 101  27   0\n",
       "               3   0   0   0   0   0   0\n",
       "               4  66 191  85 197  36   0\n",
       "               5  26  41  17  69  98   0\n",
       "               0   0   0   0   0   0   0"
      ]
     },
     "metadata": {},
     "output_type": "display_data"
    }
   ],
   "source": [
    "predictCareerSat <- predict(dataTree, newdata = testData2019, type = \"class\")\n",
    "table(predictCareerSat, testData2019$CareerSat)"
   ]
  },
  {
   "cell_type": "markdown",
   "metadata": {},
   "source": [
    "Correct - 11.327\n",
    "\n",
    "Incorrect - 8.486\n",
    "\n",
    "Total - 66041 with 46228 for training set\n",
    "\n",
    "Approx. 74,92% cases of predictions were correct. "
   ]
  },
  {
   "cell_type": "markdown",
   "metadata": {},
   "source": [
    "## Notebook summary\n",
    "\n",
    "\n",
    "After installing the Hmisc library and requesting a correlation index between all the variables we chose to look at, we obviously observed a perfect correlation value of 1 between the same values, which is to be expected when using this approach,yet most of the categories do not seem to have a correlation with Career satosfaction nor job satisfaction.\n",
    "\n",
    "The expected correlation between job and career satisfaction is confirmed here, but unfortunately we cannot rellay make use of this information because career satisfaction and job satisfaction can mean the same thing for many respondends.\n",
    "\n",
    "We also tested the relationship between these values agains a decision tree, hence making use of the 7:3 ratio where aproximately 70% of this data is taken as training data for the model and 30% is test data.\n",
    "\n",
    "Therefore we chose to not look into this correlation, and we can conclude that so far we could not see what other factor from this data set can have a significant impact on a technical person's job satisfaction.\n",
    "\n",
    "So far, our approach from here would be to repeat the cleaning process and look at other categorical variables from the original data set in order to see if indeed there is no factor within our data sample that can impact career satisfaction. "
   ]
  },
  {
   "cell_type": "code",
   "execution_count": null,
   "metadata": {},
   "outputs": [],
   "source": []
  }
 ],
 "metadata": {
  "kernelspec": {
   "display_name": "R",
   "language": "R",
   "name": "ir"
  },
  "language_info": {
   "codemirror_mode": "r",
   "file_extension": ".r",
   "mimetype": "text/x-r-source",
   "name": "R",
   "pygments_lexer": "r",
   "version": "3.6.1"
  }
 },
 "nbformat": 4,
 "nbformat_minor": 2
}
